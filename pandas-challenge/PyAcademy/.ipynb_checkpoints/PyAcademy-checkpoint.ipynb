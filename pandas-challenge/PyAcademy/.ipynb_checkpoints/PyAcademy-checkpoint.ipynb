{
 "cells": [
  {
   "cell_type": "code",
   "execution_count": 483,
   "metadata": {},
   "outputs": [],
   "source": [
    "#import dependencies\n",
    "import pandas as pd"
   ]
  },
  {
   "cell_type": "code",
   "execution_count": 484,
   "metadata": {},
   "outputs": [],
   "source": [
    "#create file paths\n",
    "school_file = \"raw_data/schools_complete.csv\"\n",
    "students_file = \"raw_data/students_complete.csv\""
   ]
  },
  {
   "cell_type": "code",
   "execution_count": 485,
   "metadata": {},
   "outputs": [],
   "source": [
    "#read data into a pandas dataset\n",
    "schools_df = pd.read_csv(school_file)\n",
    "students_df = pd.read_csv(students_file)"
   ]
  },
  {
   "cell_type": "code",
   "execution_count": 486,
   "metadata": {},
   "outputs": [
    {
     "data": {
      "text/plain": [
       "15"
      ]
     },
     "execution_count": 486,
     "metadata": {},
     "output_type": "execute_result"
    }
   ],
   "source": [
    "#start district summary by finding the total number of schools\n",
    "total_schools = schools_df[\"name\"].count()\n",
    "total_schools"
   ]
  },
  {
   "cell_type": "code",
   "execution_count": 487,
   "metadata": {},
   "outputs": [
    {
     "data": {
      "text/plain": [
       "39170"
      ]
     },
     "execution_count": 487,
     "metadata": {},
     "output_type": "execute_result"
    }
   ],
   "source": [
    "#district summary--find the total number of students in the district\n",
    "total_students = students_df[\"name\"].count()\n",
    "total_students"
   ]
  },
  {
   "cell_type": "code",
   "execution_count": 488,
   "metadata": {},
   "outputs": [
    {
     "data": {
      "text/plain": [
       "24649428"
      ]
     },
     "execution_count": 488,
     "metadata": {},
     "output_type": "execute_result"
    }
   ],
   "source": [
    "#district analysis -- find total budget\n",
    "total_budget = schools_df[\"budget\"].sum()\n",
    "total_budget"
   ]
  },
  {
   "cell_type": "code",
   "execution_count": 489,
   "metadata": {},
   "outputs": [
    {
     "name": "stdout",
     "output_type": "stream",
     "text": [
      "81.87784018381414\n",
      "78.98537145774827\n"
     ]
    }
   ],
   "source": [
    "#district analysis -- calculate the average scores for reading and math \n",
    "district_average_reading = students_df[\"reading_score\"].mean()\n",
    "print(district_average_reading)\n",
    "district_average_math = students_df[\"math_score\"].mean()\n",
    "print(district_average_math)"
   ]
  },
  {
   "cell_type": "code",
   "execution_count": 490,
   "metadata": {},
   "outputs": [
    {
     "data": {
      "text/plain": [
       "29370"
      ]
     },
     "execution_count": 490,
     "metadata": {},
     "output_type": "execute_result"
    }
   ],
   "source": [
    "#calculate the total passing in math\n",
    "pass_count_math = students_df[students_df[\"math_score\"] > 69].count()\n",
    "pass_count_math = pass_count_math[\"math_score\"]\n",
    "pass_count_math"
   ]
  },
  {
   "cell_type": "code",
   "execution_count": 491,
   "metadata": {},
   "outputs": [
    {
     "data": {
      "text/plain": [
       "33610"
      ]
     },
     "execution_count": 491,
     "metadata": {},
     "output_type": "execute_result"
    }
   ],
   "source": [
    "#calculate the total passing in reading\n",
    "pass_count_reading = students_df[students_df[\"reading_score\"] > 69].count()\n",
    "pass_count_reading = pass_count_reading[\"reading_score\"]\n",
    "pass_count_reading"
   ]
  },
  {
   "cell_type": "code",
   "execution_count": 492,
   "metadata": {},
   "outputs": [
    {
     "name": "stdout",
     "output_type": "stream",
     "text": [
      "74.98%\n",
      "85.81%\n"
     ]
    }
   ],
   "source": [
    "#districct analysis -- calculate the percentage passing in reading and math\n",
    "percent_passing_reading = pass_count_reading / total_students\n",
    "percent_passing_math = pass_count_math / total_students\n",
    "print ('{:.2%}'.format(percent_passing_math))\n",
    "print('{:.2%}'.format(percent_passing_reading))"
   ]
  },
  {
   "cell_type": "code",
   "execution_count": 493,
   "metadata": {},
   "outputs": [
    {
     "data": {
      "text/plain": [
       "'80.39%'"
      ]
     },
     "execution_count": 493,
     "metadata": {},
     "output_type": "execute_result"
    }
   ],
   "source": [
    "#calculate the overall passing rate\n",
    "overall_pass = (percent_passing_math + percent_passing_reading) / 2\n",
    "'{:.2%}'.format(overall_pass)"
   ]
  },
  {
   "cell_type": "code",
   "execution_count": 494,
   "metadata": {},
   "outputs": [
    {
     "data": {
      "text/html": [
       "<div>\n",
       "<style scoped>\n",
       "    .dataframe tbody tr th:only-of-type {\n",
       "        vertical-align: middle;\n",
       "    }\n",
       "\n",
       "    .dataframe tbody tr th {\n",
       "        vertical-align: top;\n",
       "    }\n",
       "\n",
       "    .dataframe thead th {\n",
       "        text-align: right;\n",
       "    }\n",
       "</style>\n",
       "<table border=\"1\" class=\"dataframe\">\n",
       "  <thead>\n",
       "    <tr style=\"text-align: right;\">\n",
       "      <th></th>\n",
       "      <th>% Passing Math</th>\n",
       "      <th>% Passing Reading</th>\n",
       "      <th>Average Math Score</th>\n",
       "      <th>Average Reading Score</th>\n",
       "      <th>Overall Passing Rate</th>\n",
       "      <th>Total Budget</th>\n",
       "      <th>Total Schools</th>\n",
       "      <th>Total Students</th>\n",
       "    </tr>\n",
       "  </thead>\n",
       "  <tbody>\n",
       "    <tr>\n",
       "      <th>0</th>\n",
       "      <td>74.98%</td>\n",
       "      <td>85.81%</td>\n",
       "      <td>78.99</td>\n",
       "      <td>81.88</td>\n",
       "      <td>80.39%</td>\n",
       "      <td>$24,649,428.00</td>\n",
       "      <td>15</td>\n",
       "      <td>39,170</td>\n",
       "    </tr>\n",
       "  </tbody>\n",
       "</table>\n",
       "</div>"
      ],
      "text/plain": [
       "  % Passing Math % Passing Reading Average Math Score Average Reading Score  \\\n",
       "0         74.98%            85.81%              78.99                 81.88   \n",
       "\n",
       "  Overall Passing Rate    Total Budget Total Schools Total Students  \n",
       "0               80.39%  $24,649,428.00            15         39,170  "
      ]
     },
     "execution_count": 494,
     "metadata": {},
     "output_type": "execute_result"
    }
   ],
   "source": [
    "#create a summary table of the district's key metrics\n",
    "district_summary_table = pd.DataFrame(\n",
    "    {\n",
    "        \"Total Schools\": '{:,.0f}'.format(total_schools),\n",
    "        \"Total Students\": '{:,.0f}'.format(total_students),\n",
    "        \"Total Budget\": '${:,.2f}'.format(total_budget),                              \n",
    "        \"Average Math Score\": '{:,.2f}'.format(district_average_math),\n",
    "        \"Average Reading Score\": '{:,.2f}'.format(district_average_reading),\n",
    "        \"% Passing Math\":'{:.2%}'.format(percent_passing_math),\n",
    "        \"% Passing Reading\":'{:.2%}'.format(percent_passing_reading),\n",
    "        \"Overall Passing Rate\": '{:.2%}'.format(overall_pass)\n",
    "    }, index=[0])\n",
    "district_summary_table"
   ]
  },
  {
   "cell_type": "code",
   "execution_count": 428,
   "metadata": {},
   "outputs": [],
   "source": [
    "#District Summary complete\n",
    "#Begin analysis of the individual schools\n",
    "#build upon the schools_df by adding the summary columns from the students_df"
   ]
  },
  {
   "cell_type": "code",
   "execution_count": 429,
   "metadata": {},
   "outputs": [
    {
     "data": {
      "text/html": [
       "<div>\n",
       "<style scoped>\n",
       "    .dataframe tbody tr th:only-of-type {\n",
       "        vertical-align: middle;\n",
       "    }\n",
       "\n",
       "    .dataframe tbody tr th {\n",
       "        vertical-align: top;\n",
       "    }\n",
       "\n",
       "    .dataframe thead th {\n",
       "        text-align: right;\n",
       "    }\n",
       "</style>\n",
       "<table border=\"1\" class=\"dataframe\">\n",
       "  <thead>\n",
       "    <tr style=\"text-align: right;\">\n",
       "      <th></th>\n",
       "      <th>Student ID</th>\n",
       "      <th>Student Name</th>\n",
       "      <th>gender</th>\n",
       "      <th>grade</th>\n",
       "      <th>School Name</th>\n",
       "      <th>reading_score</th>\n",
       "      <th>math_score</th>\n",
       "    </tr>\n",
       "  </thead>\n",
       "  <tbody>\n",
       "    <tr>\n",
       "      <th>0</th>\n",
       "      <td>0</td>\n",
       "      <td>Paul Bradley</td>\n",
       "      <td>M</td>\n",
       "      <td>9th</td>\n",
       "      <td>Huang High School</td>\n",
       "      <td>66</td>\n",
       "      <td>79</td>\n",
       "    </tr>\n",
       "    <tr>\n",
       "      <th>1</th>\n",
       "      <td>1</td>\n",
       "      <td>Victor Smith</td>\n",
       "      <td>M</td>\n",
       "      <td>12th</td>\n",
       "      <td>Huang High School</td>\n",
       "      <td>94</td>\n",
       "      <td>61</td>\n",
       "    </tr>\n",
       "    <tr>\n",
       "      <th>2</th>\n",
       "      <td>2</td>\n",
       "      <td>Kevin Rodriguez</td>\n",
       "      <td>M</td>\n",
       "      <td>12th</td>\n",
       "      <td>Huang High School</td>\n",
       "      <td>90</td>\n",
       "      <td>60</td>\n",
       "    </tr>\n",
       "    <tr>\n",
       "      <th>3</th>\n",
       "      <td>3</td>\n",
       "      <td>Dr. Richard Scott</td>\n",
       "      <td>M</td>\n",
       "      <td>12th</td>\n",
       "      <td>Huang High School</td>\n",
       "      <td>67</td>\n",
       "      <td>58</td>\n",
       "    </tr>\n",
       "    <tr>\n",
       "      <th>4</th>\n",
       "      <td>4</td>\n",
       "      <td>Bonnie Ray</td>\n",
       "      <td>F</td>\n",
       "      <td>9th</td>\n",
       "      <td>Huang High School</td>\n",
       "      <td>97</td>\n",
       "      <td>84</td>\n",
       "    </tr>\n",
       "  </tbody>\n",
       "</table>\n",
       "</div>"
      ],
      "text/plain": [
       "   Student ID       Student Name gender grade        School Name  \\\n",
       "0           0       Paul Bradley      M   9th  Huang High School   \n",
       "1           1       Victor Smith      M  12th  Huang High School   \n",
       "2           2    Kevin Rodriguez      M  12th  Huang High School   \n",
       "3           3  Dr. Richard Scott      M  12th  Huang High School   \n",
       "4           4         Bonnie Ray      F   9th  Huang High School   \n",
       "\n",
       "   reading_score  math_score  \n",
       "0             66          79  \n",
       "1             94          61  \n",
       "2             90          60  \n",
       "3             67          58  \n",
       "4             97          84  "
      ]
     },
     "execution_count": 429,
     "metadata": {},
     "output_type": "execute_result"
    }
   ],
   "source": [
    "#review the beginning of the dataset to familiarize\n",
    "students_df = students_df.rename(columns={\"name\": \"Student Name\", \"school\": \"School Name\"})\n",
    "students_df.head()"
   ]
  },
  {
   "cell_type": "code",
   "execution_count": 430,
   "metadata": {},
   "outputs": [
    {
     "data": {
      "text/html": [
       "<div>\n",
       "<style scoped>\n",
       "    .dataframe tbody tr th:only-of-type {\n",
       "        vertical-align: middle;\n",
       "    }\n",
       "\n",
       "    .dataframe tbody tr th {\n",
       "        vertical-align: top;\n",
       "    }\n",
       "\n",
       "    .dataframe thead th {\n",
       "        text-align: right;\n",
       "    }\n",
       "</style>\n",
       "<table border=\"1\" class=\"dataframe\">\n",
       "  <thead>\n",
       "    <tr style=\"text-align: right;\">\n",
       "      <th></th>\n",
       "      <th>School ID</th>\n",
       "      <th>name</th>\n",
       "      <th>type</th>\n",
       "      <th>size</th>\n",
       "      <th>budget</th>\n",
       "    </tr>\n",
       "  </thead>\n",
       "  <tbody>\n",
       "    <tr>\n",
       "      <th>0</th>\n",
       "      <td>0</td>\n",
       "      <td>Huang High School</td>\n",
       "      <td>District</td>\n",
       "      <td>2917</td>\n",
       "      <td>1910635</td>\n",
       "    </tr>\n",
       "    <tr>\n",
       "      <th>1</th>\n",
       "      <td>1</td>\n",
       "      <td>Figueroa High School</td>\n",
       "      <td>District</td>\n",
       "      <td>2949</td>\n",
       "      <td>1884411</td>\n",
       "    </tr>\n",
       "    <tr>\n",
       "      <th>2</th>\n",
       "      <td>2</td>\n",
       "      <td>Shelton High School</td>\n",
       "      <td>Charter</td>\n",
       "      <td>1761</td>\n",
       "      <td>1056600</td>\n",
       "    </tr>\n",
       "    <tr>\n",
       "      <th>3</th>\n",
       "      <td>3</td>\n",
       "      <td>Hernandez High School</td>\n",
       "      <td>District</td>\n",
       "      <td>4635</td>\n",
       "      <td>3022020</td>\n",
       "    </tr>\n",
       "    <tr>\n",
       "      <th>4</th>\n",
       "      <td>4</td>\n",
       "      <td>Griffin High School</td>\n",
       "      <td>Charter</td>\n",
       "      <td>1468</td>\n",
       "      <td>917500</td>\n",
       "    </tr>\n",
       "  </tbody>\n",
       "</table>\n",
       "</div>"
      ],
      "text/plain": [
       "   School ID                   name      type  size   budget\n",
       "0          0      Huang High School  District  2917  1910635\n",
       "1          1   Figueroa High School  District  2949  1884411\n",
       "2          2    Shelton High School   Charter  1761  1056600\n",
       "3          3  Hernandez High School  District  4635  3022020\n",
       "4          4    Griffin High School   Charter  1468   917500"
      ]
     },
     "execution_count": 430,
     "metadata": {},
     "output_type": "execute_result"
    }
   ],
   "source": [
    "#review the beginning of the dataset to familiarize\n",
    "schools_df.head()"
   ]
  },
  {
   "cell_type": "code",
   "execution_count": 431,
   "metadata": {},
   "outputs": [],
   "source": [
    "#rename the \"size\" in the table to total students\n",
    "schools_summary_table = schools_df.rename(columns={\"name\": \"School Name\", 'type': \"School Type\", 'size': 'Total Students', 'budget': \"Total Budget\"})"
   ]
  },
  {
   "cell_type": "code",
   "execution_count": 432,
   "metadata": {},
   "outputs": [],
   "source": [
    "#calculate the budge per student and append a column to the summary table\n",
    "schools_summary_table[\"Per Student Budget\"] = schools_summary_table[\"Total Budget\"] / schools_summary_table[\"Total Students\"]"
   ]
  },
  {
   "cell_type": "code",
   "execution_count": 433,
   "metadata": {},
   "outputs": [],
   "source": [
    "#calculate the average scores for each school\n",
    "#group the student_df by school and check the .mean() method\n",
    "#test--create new dataframe from groupby object\n",
    "df = pd.DataFrame(students_df.groupby(\"School Name\").mean())\n",
    "df = df.reset_index()"
   ]
  },
  {
   "cell_type": "code",
   "execution_count": 434,
   "metadata": {
    "scrolled": true
   },
   "outputs": [],
   "source": [
    "schools_summary_table = pd.merge(schools_summary_table, df, on=\"School Name\")\n",
    "schools_summary_table = schools_summary_table.rename(columns={\"reading_score\": \"Average Reading Score\", \"math_score\": \"Average Math Score\"})"
   ]
  },
  {
   "cell_type": "code",
   "execution_count": 435,
   "metadata": {
    "scrolled": false
   },
   "outputs": [],
   "source": [
    "#Calculate the number of students who passed reading (for calculating the percent pass later)\n",
    "df2 = students_df[[\"School Name\", \"reading_score\"]]\n",
    "df2 = df2.loc[df2[\"reading_score\"] > 69]\n",
    "df2 = df2.groupby(\"School Name\").count()\n",
    "df2 = df2.rename(columns={\"reading_score\": \"# of Pass Reading\"})\n",
    "df2 = df2.reset_index()"
   ]
  },
  {
   "cell_type": "code",
   "execution_count": 436,
   "metadata": {
    "scrolled": true
   },
   "outputs": [],
   "source": [
    "#Calculate the number of students who passed math (for calculating the percent pass later)\n",
    "df3 = students_df[[\"School Name\", \"math_score\"]]\n",
    "df3 = df3.loc[df3[\"math_score\"] > 69]\n",
    "df3 = df3.groupby(\"School Name\").count()\n",
    "df3 = df3.rename(columns={\"math_score\": \"# of Pass Math\"})\n",
    "df3 = df3.reset_index()"
   ]
  },
  {
   "cell_type": "code",
   "execution_count": 437,
   "metadata": {},
   "outputs": [],
   "source": [
    "#merge the #'s passed dataframes with the summary df in order to perform calculations\n",
    "schools_summary_table = pd.merge(schools_summary_table, df2, on=\"School Name\")\n",
    "schools_summary_table = pd.merge(schools_summary_table, df3, on=\"School Name\")"
   ]
  },
  {
   "cell_type": "code",
   "execution_count": 438,
   "metadata": {},
   "outputs": [],
   "source": [
    "#Calculate the passing % for math and reading using the columns in the dataframe and add them as new columns\n",
    "schools_summary_table[\"% Passing Reading\"] = schools_summary_table[\"# of Pass Reading\"] / schools_summary_table[\"Total Students\"]\n",
    "schools_summary_table[\"% Passing Math\"] = schools_summary_table[\"# of Pass Math\"] / schools_summary_table[\"Total Students\"]\n",
    "schools_summary_table[\"Overall Passing Rate\"] = (schools_summary_table[\"% Passing Reading\"] + schools_summary_table[\"% Passing Math\"]) / 2"
   ]
  },
  {
   "cell_type": "code",
   "execution_count": 439,
   "metadata": {},
   "outputs": [
    {
     "data": {
      "text/html": [
       "<div>\n",
       "<style scoped>\n",
       "    .dataframe tbody tr th:only-of-type {\n",
       "        vertical-align: middle;\n",
       "    }\n",
       "\n",
       "    .dataframe tbody tr th {\n",
       "        vertical-align: top;\n",
       "    }\n",
       "\n",
       "    .dataframe thead th {\n",
       "        text-align: right;\n",
       "    }\n",
       "</style>\n",
       "<table border=\"1\" class=\"dataframe\">\n",
       "  <thead>\n",
       "    <tr style=\"text-align: right;\">\n",
       "      <th></th>\n",
       "      <th>School ID</th>\n",
       "      <th>School Name</th>\n",
       "      <th>School Type</th>\n",
       "      <th>Total Students</th>\n",
       "      <th>Total Budget</th>\n",
       "      <th>Per Student Budget</th>\n",
       "      <th>Average Reading Score</th>\n",
       "      <th>Average Math Score</th>\n",
       "      <th>% Passing Reading</th>\n",
       "      <th>% Passing Math</th>\n",
       "      <th>Overall Passing Rate</th>\n",
       "    </tr>\n",
       "  </thead>\n",
       "  <tbody>\n",
       "    <tr>\n",
       "      <th>0</th>\n",
       "      <td>0</td>\n",
       "      <td>Huang High School</td>\n",
       "      <td>District</td>\n",
       "      <td>2917</td>\n",
       "      <td>1910635</td>\n",
       "      <td>655.0</td>\n",
       "      <td>81.182722</td>\n",
       "      <td>76.629414</td>\n",
       "      <td>0.813164</td>\n",
       "      <td>0.656839</td>\n",
       "      <td>0.735002</td>\n",
       "    </tr>\n",
       "    <tr>\n",
       "      <th>1</th>\n",
       "      <td>1</td>\n",
       "      <td>Figueroa High School</td>\n",
       "      <td>District</td>\n",
       "      <td>2949</td>\n",
       "      <td>1884411</td>\n",
       "      <td>639.0</td>\n",
       "      <td>81.158020</td>\n",
       "      <td>76.711767</td>\n",
       "      <td>0.807392</td>\n",
       "      <td>0.659885</td>\n",
       "      <td>0.733639</td>\n",
       "    </tr>\n",
       "    <tr>\n",
       "      <th>2</th>\n",
       "      <td>2</td>\n",
       "      <td>Shelton High School</td>\n",
       "      <td>Charter</td>\n",
       "      <td>1761</td>\n",
       "      <td>1056600</td>\n",
       "      <td>600.0</td>\n",
       "      <td>83.725724</td>\n",
       "      <td>83.359455</td>\n",
       "      <td>0.958546</td>\n",
       "      <td>0.938671</td>\n",
       "      <td>0.948609</td>\n",
       "    </tr>\n",
       "    <tr>\n",
       "      <th>3</th>\n",
       "      <td>3</td>\n",
       "      <td>Hernandez High School</td>\n",
       "      <td>District</td>\n",
       "      <td>4635</td>\n",
       "      <td>3022020</td>\n",
       "      <td>652.0</td>\n",
       "      <td>80.934412</td>\n",
       "      <td>77.289752</td>\n",
       "      <td>0.808630</td>\n",
       "      <td>0.667530</td>\n",
       "      <td>0.738080</td>\n",
       "    </tr>\n",
       "    <tr>\n",
       "      <th>4</th>\n",
       "      <td>4</td>\n",
       "      <td>Griffin High School</td>\n",
       "      <td>Charter</td>\n",
       "      <td>1468</td>\n",
       "      <td>917500</td>\n",
       "      <td>625.0</td>\n",
       "      <td>83.816757</td>\n",
       "      <td>83.351499</td>\n",
       "      <td>0.971390</td>\n",
       "      <td>0.933924</td>\n",
       "      <td>0.952657</td>\n",
       "    </tr>\n",
       "  </tbody>\n",
       "</table>\n",
       "</div>"
      ],
      "text/plain": [
       "   School ID            School Name School Type  Total Students  Total Budget  \\\n",
       "0          0      Huang High School    District            2917       1910635   \n",
       "1          1   Figueroa High School    District            2949       1884411   \n",
       "2          2    Shelton High School     Charter            1761       1056600   \n",
       "3          3  Hernandez High School    District            4635       3022020   \n",
       "4          4    Griffin High School     Charter            1468        917500   \n",
       "\n",
       "   Per Student Budget  Average Reading Score  Average Math Score  \\\n",
       "0               655.0              81.182722           76.629414   \n",
       "1               639.0              81.158020           76.711767   \n",
       "2               600.0              83.725724           83.359455   \n",
       "3               652.0              80.934412           77.289752   \n",
       "4               625.0              83.816757           83.351499   \n",
       "\n",
       "   % Passing Reading  % Passing Math  Overall Passing Rate  \n",
       "0           0.813164        0.656839              0.735002  \n",
       "1           0.807392        0.659885              0.733639  \n",
       "2           0.958546        0.938671              0.948609  \n",
       "3           0.808630        0.667530              0.738080  \n",
       "4           0.971390        0.933924              0.952657  "
      ]
     },
     "execution_count": 439,
     "metadata": {},
     "output_type": "execute_result"
    }
   ],
   "source": [
    "#drop the unnecessary columns from the summary dataframe\n",
    "schools_summary_table = schools_summary_table.drop([\"School ID\", \"# of Pass Reading\", \"# of Pass Math\", \"Student ID\"], axis=1)\n",
    "schools_summary_table.head()"
   ]
  },
  {
   "cell_type": "code",
   "execution_count": 441,
   "metadata": {},
   "outputs": [],
   "source": [
    "#apply formatting to the columns in the df\n",
    "format_percent = \"{0:.2f}%\".format\n",
    "format_round2 =  '{:,.2f}'.format\n",
    "format_round0 = '{:,.0f}'.format\n",
    "format_currency = '${:,.2f}'.format\n",
    "schools_summary_table[['% Passing Reading','% Passing Math', 'Overall Passing Rate']] = schools_summary_table[['% Passing Reading','% Passing Math', 'Overall Passing Rate']] * 100\n",
    "schools_summary_table[['Total Budget','Per Student Budget']] = schools_summary_table[['Total Budget','Per Student Budget']].applymap(format_currency)\n",
    "schools_summary_table[['Average Reading Score','Average Math Score']] = schools_summary_table[['Average Reading Score','Average Math Score']].applymap(format_round2)\n",
    "schools_summary_table[['% Passing Reading','% Passing Math', 'Overall Passing Rate']] = schools_summary_table[['% Passing Reading','% Passing Math', 'Overall Passing Rate']].applymap(format_percent)\n",
    "schools_summary_table[['Total Students']] = schools_summary_table[['Total Students']].applymap(format_round0)"
   ]
  },
  {
   "cell_type": "code",
   "execution_count": 445,
   "metadata": {},
   "outputs": [
    {
     "data": {
      "text/html": [
       "<div>\n",
       "<style scoped>\n",
       "    .dataframe tbody tr th:only-of-type {\n",
       "        vertical-align: middle;\n",
       "    }\n",
       "\n",
       "    .dataframe tbody tr th {\n",
       "        vertical-align: top;\n",
       "    }\n",
       "\n",
       "    .dataframe thead th {\n",
       "        text-align: right;\n",
       "    }\n",
       "</style>\n",
       "<table border=\"1\" class=\"dataframe\">\n",
       "  <thead>\n",
       "    <tr style=\"text-align: right;\">\n",
       "      <th></th>\n",
       "      <th>School ID</th>\n",
       "      <th>School Name</th>\n",
       "      <th>School Type</th>\n",
       "      <th>Total Students</th>\n",
       "      <th>Total Budget</th>\n",
       "      <th>Per Student Budget</th>\n",
       "      <th>Average Reading Score</th>\n",
       "      <th>Average Math Score</th>\n",
       "      <th>% Passing Reading</th>\n",
       "      <th>% Passing Math</th>\n",
       "      <th>Overall Passing Rate</th>\n",
       "    </tr>\n",
       "  </thead>\n",
       "  <tbody>\n",
       "    <tr>\n",
       "      <th>0</th>\n",
       "      <td>0</td>\n",
       "      <td>Huang High School</td>\n",
       "      <td>District</td>\n",
       "      <td>2,917</td>\n",
       "      <td>$1,910,635.00</td>\n",
       "      <td>$655.00</td>\n",
       "      <td>81.18</td>\n",
       "      <td>76.63</td>\n",
       "      <td>81.32%</td>\n",
       "      <td>65.68%</td>\n",
       "      <td>73.50%</td>\n",
       "    </tr>\n",
       "    <tr>\n",
       "      <th>1</th>\n",
       "      <td>1</td>\n",
       "      <td>Figueroa High School</td>\n",
       "      <td>District</td>\n",
       "      <td>2,949</td>\n",
       "      <td>$1,884,411.00</td>\n",
       "      <td>$639.00</td>\n",
       "      <td>81.16</td>\n",
       "      <td>76.71</td>\n",
       "      <td>80.74%</td>\n",
       "      <td>65.99%</td>\n",
       "      <td>73.36%</td>\n",
       "    </tr>\n",
       "    <tr>\n",
       "      <th>2</th>\n",
       "      <td>2</td>\n",
       "      <td>Shelton High School</td>\n",
       "      <td>Charter</td>\n",
       "      <td>1,761</td>\n",
       "      <td>$1,056,600.00</td>\n",
       "      <td>$600.00</td>\n",
       "      <td>83.73</td>\n",
       "      <td>83.36</td>\n",
       "      <td>95.85%</td>\n",
       "      <td>93.87%</td>\n",
       "      <td>94.86%</td>\n",
       "    </tr>\n",
       "    <tr>\n",
       "      <th>3</th>\n",
       "      <td>3</td>\n",
       "      <td>Hernandez High School</td>\n",
       "      <td>District</td>\n",
       "      <td>4,635</td>\n",
       "      <td>$3,022,020.00</td>\n",
       "      <td>$652.00</td>\n",
       "      <td>80.93</td>\n",
       "      <td>77.29</td>\n",
       "      <td>80.86%</td>\n",
       "      <td>66.75%</td>\n",
       "      <td>73.81%</td>\n",
       "    </tr>\n",
       "    <tr>\n",
       "      <th>4</th>\n",
       "      <td>4</td>\n",
       "      <td>Griffin High School</td>\n",
       "      <td>Charter</td>\n",
       "      <td>1,468</td>\n",
       "      <td>$917,500.00</td>\n",
       "      <td>$625.00</td>\n",
       "      <td>83.82</td>\n",
       "      <td>83.35</td>\n",
       "      <td>97.14%</td>\n",
       "      <td>93.39%</td>\n",
       "      <td>95.27%</td>\n",
       "    </tr>\n",
       "  </tbody>\n",
       "</table>\n",
       "</div>"
      ],
      "text/plain": [
       "   School ID            School Name School Type Total Students   Total Budget  \\\n",
       "0          0      Huang High School    District          2,917  $1,910,635.00   \n",
       "1          1   Figueroa High School    District          2,949  $1,884,411.00   \n",
       "2          2    Shelton High School     Charter          1,761  $1,056,600.00   \n",
       "3          3  Hernandez High School    District          4,635  $3,022,020.00   \n",
       "4          4    Griffin High School     Charter          1,468    $917,500.00   \n",
       "\n",
       "  Per Student Budget Average Reading Score Average Math Score  \\\n",
       "0            $655.00                 81.18              76.63   \n",
       "1            $639.00                 81.16              76.71   \n",
       "2            $600.00                 83.73              83.36   \n",
       "3            $652.00                 80.93              77.29   \n",
       "4            $625.00                 83.82              83.35   \n",
       "\n",
       "  % Passing Reading % Passing Math Overall Passing Rate  \n",
       "0            81.32%         65.68%               73.50%  \n",
       "1            80.74%         65.99%               73.36%  \n",
       "2            95.85%         93.87%               94.86%  \n",
       "3            80.86%         66.75%               73.81%  \n",
       "4            97.14%         93.39%               95.27%  "
      ]
     },
     "execution_count": 445,
     "metadata": {},
     "output_type": "execute_result"
    }
   ],
   "source": [
    "schools_summary_table.head()"
   ]
  },
  {
   "cell_type": "code",
   "execution_count": null,
   "metadata": {},
   "outputs": [],
   "source": [
    "# Summary Table for Individual Schools complete\n",
    "# Begin creating table for the top 5 performing schools based on overall pass rate"
   ]
  }
 ],
 "metadata": {
  "kernelspec": {
   "display_name": "Python 3",
   "language": "python",
   "name": "python3"
  },
  "language_info": {
   "codemirror_mode": {
    "name": "ipython",
    "version": 3
   },
   "file_extension": ".py",
   "mimetype": "text/x-python",
   "name": "python",
   "nbconvert_exporter": "python",
   "pygments_lexer": "ipython3",
   "version": "3.6.4"
  }
 },
 "nbformat": 4,
 "nbformat_minor": 2
}
