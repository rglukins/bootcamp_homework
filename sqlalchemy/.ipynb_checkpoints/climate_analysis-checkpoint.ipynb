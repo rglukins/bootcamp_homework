{
 "cells": [
  {
   "cell_type": "code",
   "execution_count": 313,
   "metadata": {},
   "outputs": [],
   "source": [
    "# import dependencies\n",
    "import datetime as dt\n",
    "import numpy as np\n",
    "import pandas as pd\n",
    "import matplotlib.pyplot as plt\n",
    "\n",
    "from sqlalchemy.ext.automap import automap_base\n",
    "from sqlalchemy.orm import Session\n",
    "from sqlalchemy import create_engine, inspect, func, MetaData\n",
    "\n",
    "\n",
    "# PyMySQL \n",
    "import pymysql\n",
    "pymysql.install_as_MySQLdb()"
   ]
  },
  {
   "cell_type": "code",
   "execution_count": 314,
   "metadata": {},
   "outputs": [],
   "source": [
    "# create engine for the hawaii database\n",
    "engine = create_engine(\"sqlite:///hawaii.sqlite\",  echo=False)"
   ]
  },
  {
   "cell_type": "code",
   "execution_count": 315,
   "metadata": {},
   "outputs": [],
   "source": [
    "#engine.execute(\"SELECT * FROM measurements LIMIT 20\").fetchall()"
   ]
  },
  {
   "cell_type": "code",
   "execution_count": 316,
   "metadata": {},
   "outputs": [
    {
     "data": {
      "text/plain": [
       "['measurements', 'stations']"
      ]
     },
     "execution_count": 316,
     "metadata": {},
     "output_type": "execute_result"
    }
   ],
   "source": [
    "# Reflect Database into ORM classes\n",
    "Base = automap_base()\n",
    "Base.prepare(engine, reflect=True)\n",
    "Base.classes.keys()"
   ]
  },
  {
   "cell_type": "code",
   "execution_count": 317,
   "metadata": {},
   "outputs": [],
   "source": [
    "Station = Base.classes.stations\n",
    "Measurement = Base.classes.measurements"
   ]
  },
  {
   "cell_type": "code",
   "execution_count": 318,
   "metadata": {},
   "outputs": [],
   "source": [
    "session = Session(engine)"
   ]
  },
  {
   "cell_type": "code",
   "execution_count": 319,
   "metadata": {},
   "outputs": [],
   "source": [
    "# Begin precipitation analysis. Query 12 months worth of precipitation data from the final measurement date"
   ]
  },
  {
   "cell_type": "code",
   "execution_count": 320,
   "metadata": {},
   "outputs": [
    {
     "data": {
      "text/plain": [
       "('2017-08-23')"
      ]
     },
     "execution_count": 320,
     "metadata": {},
     "output_type": "execute_result"
    }
   ],
   "source": [
    "# find the last date of recorded measurments in the database in order to find the last 12 months worth of data\n",
    "session.query(Measurement.date).order_by(Measurement.date.desc()).first()"
   ]
  },
  {
   "cell_type": "code",
   "execution_count": 321,
   "metadata": {},
   "outputs": [],
   "source": [
    "# create query for precipitation for the last 12 months of available records\n",
    "weather = [Measurement.date, Measurement.prcp]\n",
    "prcp_data = session.query(*weather).filter(Measurement.date > '2016-08-23').order_by(Measurement.date).all()"
   ]
  },
  {
   "cell_type": "code",
   "execution_count": 323,
   "metadata": {},
   "outputs": [],
   "source": [
    "# store the precipitation data into a pandas dataframe\n",
    "prcp_df = pd.DataFrame(prcp_data, columns=['Date', 'Precipitation'])"
   ]
  },
  {
   "cell_type": "code",
   "execution_count": 324,
   "metadata": {},
   "outputs": [],
   "source": [
    "prcp_df['Date'] = prcp_df['Date'].map(lambda x: dt.datetime.strptime(x, '%Y-%m-%d'))"
   ]
  },
  {
   "cell_type": "code",
   "execution_count": 325,
   "metadata": {
    "scrolled": true
   },
   "outputs": [
    {
     "data": {
      "text/html": [
       "<div>\n",
       "<style scoped>\n",
       "    .dataframe tbody tr th:only-of-type {\n",
       "        vertical-align: middle;\n",
       "    }\n",
       "\n",
       "    .dataframe tbody tr th {\n",
       "        vertical-align: top;\n",
       "    }\n",
       "\n",
       "    .dataframe thead th {\n",
       "        text-align: right;\n",
       "    }\n",
       "</style>\n",
       "<table border=\"1\" class=\"dataframe\">\n",
       "  <thead>\n",
       "    <tr style=\"text-align: right;\">\n",
       "      <th></th>\n",
       "      <th>Precipitation</th>\n",
       "    </tr>\n",
       "    <tr>\n",
       "      <th>Date</th>\n",
       "      <th></th>\n",
       "    </tr>\n",
       "  </thead>\n",
       "  <tbody>\n",
       "    <tr>\n",
       "      <th>2016-08-24</th>\n",
       "      <td>0.08</td>\n",
       "    </tr>\n",
       "    <tr>\n",
       "      <th>2016-08-24</th>\n",
       "      <td>2.15</td>\n",
       "    </tr>\n",
       "    <tr>\n",
       "      <th>2016-08-24</th>\n",
       "      <td>2.28</td>\n",
       "    </tr>\n",
       "    <tr>\n",
       "      <th>2016-08-24</th>\n",
       "      <td>1.22</td>\n",
       "    </tr>\n",
       "    <tr>\n",
       "      <th>2016-08-24</th>\n",
       "      <td>2.15</td>\n",
       "    </tr>\n",
       "  </tbody>\n",
       "</table>\n",
       "</div>"
      ],
      "text/plain": [
       "            Precipitation\n",
       "Date                     \n",
       "2016-08-24           0.08\n",
       "2016-08-24           2.15\n",
       "2016-08-24           2.28\n",
       "2016-08-24           1.22\n",
       "2016-08-24           2.15"
      ]
     },
     "execution_count": 325,
     "metadata": {},
     "output_type": "execute_result"
    }
   ],
   "source": [
    "prcp_df.set_index(\"Date\", inplace=True)\n",
    "prcp_df.head()"
   ]
  },
  {
   "cell_type": "code",
   "execution_count": 326,
   "metadata": {},
   "outputs": [
    {
     "data": {
      "text/html": [
       "<div>\n",
       "<style scoped>\n",
       "    .dataframe tbody tr th:only-of-type {\n",
       "        vertical-align: middle;\n",
       "    }\n",
       "\n",
       "    .dataframe tbody tr th {\n",
       "        vertical-align: top;\n",
       "    }\n",
       "\n",
       "    .dataframe thead th {\n",
       "        text-align: right;\n",
       "    }\n",
       "</style>\n",
       "<table border=\"1\" class=\"dataframe\">\n",
       "  <thead>\n",
       "    <tr style=\"text-align: right;\">\n",
       "      <th></th>\n",
       "      <th>Precipitation</th>\n",
       "    </tr>\n",
       "    <tr>\n",
       "      <th>Date</th>\n",
       "      <th></th>\n",
       "    </tr>\n",
       "  </thead>\n",
       "  <tbody>\n",
       "    <tr>\n",
       "      <th>2017-08-22</th>\n",
       "      <td>0.50</td>\n",
       "    </tr>\n",
       "    <tr>\n",
       "      <th>2017-08-23</th>\n",
       "      <td>0.00</td>\n",
       "    </tr>\n",
       "    <tr>\n",
       "      <th>2017-08-23</th>\n",
       "      <td>0.00</td>\n",
       "    </tr>\n",
       "    <tr>\n",
       "      <th>2017-08-23</th>\n",
       "      <td>0.08</td>\n",
       "    </tr>\n",
       "    <tr>\n",
       "      <th>2017-08-23</th>\n",
       "      <td>0.45</td>\n",
       "    </tr>\n",
       "  </tbody>\n",
       "</table>\n",
       "</div>"
      ],
      "text/plain": [
       "            Precipitation\n",
       "Date                     \n",
       "2017-08-22           0.50\n",
       "2017-08-23           0.00\n",
       "2017-08-23           0.00\n",
       "2017-08-23           0.08\n",
       "2017-08-23           0.45"
      ]
     },
     "execution_count": 326,
     "metadata": {},
     "output_type": "execute_result"
    }
   ],
   "source": [
    "prcp_df.tail()"
   ]
  },
  {
   "cell_type": "code",
   "execution_count": 327,
   "metadata": {},
   "outputs": [
    {
     "data": {
      "image/png": "[encoded data removed]",
      "text/plain": [
       "<matplotlib.figure.Figure at 0x25d9652c438>"
      ]
     },
     "metadata": {},
     "output_type": "display_data"
    }
   ],
   "source": [
    "prcp_df.plot(x=prcp_df.index, y=\"Precipitation\", kind='line', use_index=True, grid=True)\n",
    "plt.ylim(0,7)\n",
    "plt.ylabel(\"Inches\")\n",
    "plt.xlabel(\"August 2017 -- August 2017\")\n",
    "plt.title('Precipitation--Last 12 Months')\n",
    "plt.tight_layout()\n",
    "plt.savefig('precipitation.png')\n",
    "plt.show()"
   ]
  },
  {
   "cell_type": "code",
   "execution_count": 328,
   "metadata": {},
   "outputs": [
    {
     "name": "stdout",
     "output_type": "stream",
     "text": [
      "       Precipitation\n",
      "count    2015.000000\n",
      "mean        0.176462\n",
      "std         0.460288\n",
      "min         0.000000\n",
      "25%         0.000000\n",
      "50%         0.020000\n",
      "75%         0.130000\n",
      "max         6.700000\n"
     ]
    }
   ],
   "source": [
    "# print the summary statistics for the precipitation data\n",
    "print(prcp_df.describe())"
   ]
  },
  {
   "cell_type": "code",
   "execution_count": 329,
   "metadata": {},
   "outputs": [],
   "source": [
    "## begin station analysis ##"
   ]
  },
  {
   "cell_type": "code",
   "execution_count": 330,
   "metadata": {},
   "outputs": [
    {
     "name": "stdout",
     "output_type": "stream",
     "text": [
      "There are 9 total stations.\n"
     ]
    }
   ],
   "source": [
    "# Design a query to calculate the total number of stations.\n",
    "station_count = session.query(Station.station).count()\n",
    "print(f'There are {station_count} total stations.')"
   ]
  },
  {
   "cell_type": "code",
   "execution_count": 331,
   "metadata": {},
   "outputs": [
    {
     "name": "stdout",
     "output_type": "stream",
     "text": [
      "The most active station is USC00519281, WAIHEE 837.5, HI US , with 2772 observations.\n"
     ]
    }
   ],
   "source": [
    "# Design a query to find the most active stations.\n",
    "active = session.query(Measurement.station, func.count(Measurement.tobs)).group_by(Measurement.station).\\\n",
    "    order_by(func.count(Measurement.tobs).desc()).all()\n",
    "active_loc = session.query(Station.name).filter(Station.station == np.ravel(active[0])[0]).all()\n",
    "print(f'The most active station is {np.ravel(active[0])[0]}, {np.ravel(active_loc)[0]} , with {np.ravel(active[0])[1]} observations.')"
   ]
  },
  {
   "cell_type": "code",
   "execution_count": 332,
   "metadata": {},
   "outputs": [],
   "source": [
    "# Design a query to retrieve the last 12 months of temperature observation data (tobs).\n",
    "temp_data = [Measurement.station, Measurement.date, Measurement.tobs]\n",
    "temp_obs = session.query(*temp_data).filter(Measurement.date > '2016-08-23').order_by(Measurement.date).all()"
   ]
  },
  {
   "cell_type": "code",
   "execution_count": 333,
   "metadata": {},
   "outputs": [
    {
     "data": {
      "text/plain": [
       "[('USC00519397', 358),\n",
       " ('USC00519281', 351),\n",
       " ('USC00513117', 342),\n",
       " ('USC00516128', 327),\n",
       " ('USC00519523', 313),\n",
       " ('USC00514830', 264),\n",
       " ('USC00517948', 60)]"
      ]
     },
     "execution_count": 333,
     "metadata": {},
     "output_type": "execute_result"
    }
   ],
   "source": [
    "# Filter by the station with the highest number of observations.\n",
    "session.query(Measurement.station, func.count(Measurement.tobs)).group_by(Measurement.station).\\\n",
    "    filter(Measurement.date > '2016-08-23').order_by(func.count(Measurement.tobs).desc()).all()"
   ]
  },
  {
   "cell_type": "code",
   "execution_count": 334,
   "metadata": {},
   "outputs": [
    {
     "data": {
      "image/png": "[encoded data removed]",
      "text/plain": [
       "<matplotlib.figure.Figure at 0x25d9196b908>"
      ]
     },
     "metadata": {},
     "output_type": "display_data"
    }
   ],
   "source": [
    "# Plot the results as a histogram with bins=12.\n",
    "temp_df = pd.DataFrame(temp_obs, columns=['station', 'date', 'temp'])\n",
    "plt.hist(temp_df[\"temp\"], bins=12)\n",
    "plt.title(\"Hawai'i Temperature Histogram, 8/2016 to 8/2017\")\n",
    "plt.ylabel(\"Frequency\")\n",
    "plt.xlabel('Temperature')\n",
    "plt.legend(['Temp Obs'])\n",
    "plt.savefig('Hawaii_temp_histogram.png')\n",
    "plt.show()"
   ]
  },
  {
   "cell_type": "code",
   "execution_count": 341,
   "metadata": {},
   "outputs": [],
   "source": [
    "## Begin temperature analysis ##\n",
    "# Write a function called calc_temps that will accept a start date and end date in the format %Y-%m-%d and return the \n",
    "#minimum, average, and maximum temperatures for that range of dates.\n",
    "\n",
    "def calc_temps():\n",
    "    \"\"\"returns a list featuring (min temp), (max temp) and (average temp) for the date range entered\"\"\"    \n",
    "    start = input('Enter Search Start Date in YYYY-MM-DD format.')\n",
    "    start_date = dt.datetime.strptime(start, '%Y-%m-%d').date()\n",
    "    end = input('Enter Search End Date in YYYY-MM-DD format.')\n",
    "    end_date = dt.datetime.strptime(end, '%Y-%m-%d').date()\n",
    "    data = session.query(Measurement.date, Measurement.tobs).filter(Measurement.date > start_date).filter(Measurement.date < end_date).all()\n",
    "    df = pd.DataFrame(data, columns=['date', 'temp'])\n",
    "    temp_min = df['temp'].min()\n",
    "    temp_max = df['temp'].max()\n",
    "    temp_av = df['temp'].mean()\n",
    "    print(f'The average temperature was {round(temp_av, 2)}, with a high of {temp_max} and a low of {temp_min} F.')\n",
    "    return [temp_min, temp_max, temp_av]"
   ]
  },
  {
   "cell_type": "code",
   "execution_count": 342,
   "metadata": {},
   "outputs": [
    {
     "name": "stdout",
     "output_type": "stream",
     "text": [
      "Enter Search Start Date in YYYY-MM-DD format.2017-07-15\n",
      "Enter Search End Date in YYYY-MM-DD format.2017-07-31\n",
      "The average temperature was 78.7, with a high of 84 and a low of 72 F.\n"
     ]
    }
   ],
   "source": [
    "# Trip will be between July 15, 2018 & July 31, 2018, so we'll enter 2017-07-15 as start and 2017-07-31 as end search date.\n",
    "trip = calc_temps()"
   ]
  },
  {
   "cell_type": "code",
   "execution_count": 343,
   "metadata": {},
   "outputs": [
    {
     "data": {
      "image/png": "[encoded data removed]",
      "text/plain": [
       "<matplotlib.figure.Figure at 0x25d9960bb70>"
      ]
     },
     "metadata": {},
     "output_type": "display_data"
    }
   ],
   "source": [
    "# Plot the min, avg, and max temperature from your previous query as a bar chart.\n",
    "plt.bar(0, trip[2], yerr=(trip[1] - trip[0]), color='orange')\n",
    "plt.title(\"Trip Average Temp\")\n",
    "plt.xticks([])\n",
    "plt.ylabel('Temp (F)')\n",
    "plt.tight_layout()\n",
    "plt.savefig('trip_avg_temp.png')\n",
    "plt.show()"
   ]
  },
  {
   "cell_type": "code",
   "execution_count": 344,
   "metadata": {},
   "outputs": [],
   "source": [
    "## Optional Recommended Analysis ##"
   ]
  },
  {
   "cell_type": "code",
   "execution_count": 345,
   "metadata": {},
   "outputs": [],
   "source": [
    "# Calculate the rainfall per weather station using the previous year's matching dates.\n",
    "\n",
    "def calc_rain():\n",
    "    \"\"\"returns a list featuring (min rain), (max rain) and (average rain) for the date-range entered\"\"\"    \n",
    "    start = input('Enter Search Start Date in YYYY-MM-DD format.')\n",
    "    start_date = dt.datetime.strptime(start, '%Y-%m-%d').date()\n",
    "    end = input('Enter Search End Date in YYYY-MM-DD format.')\n",
    "    end_date = dt.datetime.strptime(end, '%Y-%m-%d').date()\n",
    "    data = session.query(Measurement.date, Measurement.prcp).filter(Measurement.date > start_date).filter(Measurement.date < end_date).all()\n",
    "    df = pd.DataFrame(data, columns=['date', 'prcp'])\n",
    "    prcp_min = df['prcp'].min()\n",
    "    prcp_max = df['prcp'].max()\n",
    "    prcp_av = df['prcp'].mean()\n",
    "    print(f'The average rainfall was {round(prcp_av, 2)} inches, with a max rainfall of {prcp_max} inches and a minimum rainfall of {prcp_min} inches.')\n",
    "    return [prcp_min, prcp_max, prcp_av]"
   ]
  },
  {
   "cell_type": "code",
   "execution_count": 346,
   "metadata": {},
   "outputs": [
    {
     "name": "stdout",
     "output_type": "stream",
     "text": [
      "Enter Search Start Date in YYYY-MM-DD format.2017-07-15\n",
      "Enter Search End Date in YYYY-MM-DD format.2017-07-31\n",
      "The average rainfall was 0.19 inches, with a max rainfall of 4.0 inches and a minimum rainfall of 0.0 inches.\n"
     ]
    }
   ],
   "source": [
    "rainfall = calc_rain()"
   ]
  },
  {
   "cell_type": "code",
   "execution_count": 347,
   "metadata": {},
   "outputs": [],
   "source": [
    "# Create a function called daily_normals that will calculate the daily normals for a specific date.\n",
    "\n",
    "def daily_normals(month, day):\n",
    "    \"\"\"Returns a list of tuples of the historical daily normals for the month and day passed to the function\"\"\"\n",
    "    data = session.query(Measurement.date, func.avg(Measurement.tobs), func.max(Measurement.tobs), func.min(Measurement.tobs)).\\\n",
    "    filter(func.strftime('%m', Measurement.date) == month).filter(func.strftime('%d', Measurement.date) == day).all()\n",
    "    return data[0]"
   ]
  },
  {
   "cell_type": "code",
   "execution_count": 348,
   "metadata": {},
   "outputs": [
    {
     "data": {
      "text/plain": [
       "[('2010-07-15', 76.21818181818182, 82, 68),\n",
       " ('2010-07-16', 76.28571428571429, 83, 70),\n",
       " ('2010-07-17', 76.3921568627451, 83, 70),\n",
       " ('2011-07-18', 76.62745098039215, 83, 72),\n",
       " ('2012-07-19', 75.83018867924528, 83, 68),\n",
       " ('2012-07-20', 75.32692307692308, 82, 69),\n",
       " ('2012-07-21', 76.9795918367347, 83, 69),\n",
       " ('2012-07-22', 75.75510204081633, 81, 69),\n",
       " ('2010-07-23', 75.94, 82, 70),\n",
       " ('2013-07-24', 76.4, 81, 69),\n",
       " ('2013-07-25', 76.94117647058823, 84, 67),\n",
       " ('2010-07-26', 76.41176470588235, 86, 71),\n",
       " ('2010-07-27', 76.36734693877551, 83, 68),\n",
       " ('2010-07-28', 76.45283018867924, 82, 69),\n",
       " ('2012-07-29', 76.46, 83, 69),\n",
       " ('2010-07-30', 77.10416666666667, 84, 69),\n",
       " ('2013-07-31', 76.6875, 83, 72)]"
      ]
     },
     "execution_count": 348,
     "metadata": {},
     "output_type": "execute_result"
    }
   ],
   "source": [
    "# Create a list of dates for your trip in the format %m-%d. Use the daily_normals function to calculate the normals for\n",
    "# each date string and append the results to a list.\n",
    "trip_list = ['07-15','07-16','07-17','07-18','07-19','07-20','07-21','07-22','07-23','07-24','07-25','07-26',\\\n",
    "             '07-27','07-28','07-29','07-30','07-31']\n",
    "trip_days = [x.split('-') for x in trip_list]\n",
    "daily_norms = [daily_normals(x, y) for x,y in trip_days]\n",
    "daily_norms"
   ]
  },
  {
   "cell_type": "code",
   "execution_count": 349,
   "metadata": {},
   "outputs": [],
   "source": [
    "normals_df = pd.DataFrame(daily_norms, columns=[\"Date\", 'Avg Temp', 'Max Temp','Min Temp'])"
   ]
  },
  {
   "cell_type": "code",
   "execution_count": 350,
   "metadata": {},
   "outputs": [],
   "source": [
    "import re\n",
    "normals_df['Date'] = normals_df['Date'].map(lambda x:  re.sub(r'201\\d\\-', '', x))"
   ]
  },
  {
   "cell_type": "code",
   "execution_count": 351,
   "metadata": {},
   "outputs": [
    {
     "data": {
      "text/html": [
       "<div>\n",
       "<style scoped>\n",
       "    .dataframe tbody tr th:only-of-type {\n",
       "        vertical-align: middle;\n",
       "    }\n",
       "\n",
       "    .dataframe tbody tr th {\n",
       "        vertical-align: top;\n",
       "    }\n",
       "\n",
       "    .dataframe thead th {\n",
       "        text-align: right;\n",
       "    }\n",
       "</style>\n",
       "<table border=\"1\" class=\"dataframe\">\n",
       "  <thead>\n",
       "    <tr style=\"text-align: right;\">\n",
       "      <th></th>\n",
       "      <th>Avg Temp</th>\n",
       "      <th>Max Temp</th>\n",
       "      <th>Min Temp</th>\n",
       "    </tr>\n",
       "    <tr>\n",
       "      <th>Date</th>\n",
       "      <th></th>\n",
       "      <th></th>\n",
       "      <th></th>\n",
       "    </tr>\n",
       "  </thead>\n",
       "  <tbody>\n",
       "    <tr>\n",
       "      <th>07-15</th>\n",
       "      <td>76.218182</td>\n",
       "      <td>82</td>\n",
       "      <td>68</td>\n",
       "    </tr>\n",
       "    <tr>\n",
       "      <th>07-16</th>\n",
       "      <td>76.285714</td>\n",
       "      <td>83</td>\n",
       "      <td>70</td>\n",
       "    </tr>\n",
       "    <tr>\n",
       "      <th>07-17</th>\n",
       "      <td>76.392157</td>\n",
       "      <td>83</td>\n",
       "      <td>70</td>\n",
       "    </tr>\n",
       "    <tr>\n",
       "      <th>07-18</th>\n",
       "      <td>76.627451</td>\n",
       "      <td>83</td>\n",
       "      <td>72</td>\n",
       "    </tr>\n",
       "    <tr>\n",
       "      <th>07-19</th>\n",
       "      <td>75.830189</td>\n",
       "      <td>83</td>\n",
       "      <td>68</td>\n",
       "    </tr>\n",
       "    <tr>\n",
       "      <th>07-20</th>\n",
       "      <td>75.326923</td>\n",
       "      <td>82</td>\n",
       "      <td>69</td>\n",
       "    </tr>\n",
       "    <tr>\n",
       "      <th>07-21</th>\n",
       "      <td>76.979592</td>\n",
       "      <td>83</td>\n",
       "      <td>69</td>\n",
       "    </tr>\n",
       "    <tr>\n",
       "      <th>07-22</th>\n",
       "      <td>75.755102</td>\n",
       "      <td>81</td>\n",
       "      <td>69</td>\n",
       "    </tr>\n",
       "    <tr>\n",
       "      <th>07-23</th>\n",
       "      <td>75.940000</td>\n",
       "      <td>82</td>\n",
       "      <td>70</td>\n",
       "    </tr>\n",
       "    <tr>\n",
       "      <th>07-24</th>\n",
       "      <td>76.400000</td>\n",
       "      <td>81</td>\n",
       "      <td>69</td>\n",
       "    </tr>\n",
       "    <tr>\n",
       "      <th>07-25</th>\n",
       "      <td>76.941176</td>\n",
       "      <td>84</td>\n",
       "      <td>67</td>\n",
       "    </tr>\n",
       "    <tr>\n",
       "      <th>07-26</th>\n",
       "      <td>76.411765</td>\n",
       "      <td>86</td>\n",
       "      <td>71</td>\n",
       "    </tr>\n",
       "    <tr>\n",
       "      <th>07-27</th>\n",
       "      <td>76.367347</td>\n",
       "      <td>83</td>\n",
       "      <td>68</td>\n",
       "    </tr>\n",
       "    <tr>\n",
       "      <th>07-28</th>\n",
       "      <td>76.452830</td>\n",
       "      <td>82</td>\n",
       "      <td>69</td>\n",
       "    </tr>\n",
       "    <tr>\n",
       "      <th>07-29</th>\n",
       "      <td>76.460000</td>\n",
       "      <td>83</td>\n",
       "      <td>69</td>\n",
       "    </tr>\n",
       "    <tr>\n",
       "      <th>07-30</th>\n",
       "      <td>77.104167</td>\n",
       "      <td>84</td>\n",
       "      <td>69</td>\n",
       "    </tr>\n",
       "    <tr>\n",
       "      <th>07-31</th>\n",
       "      <td>76.687500</td>\n",
       "      <td>83</td>\n",
       "      <td>72</td>\n",
       "    </tr>\n",
       "  </tbody>\n",
       "</table>\n",
       "</div>"
      ],
      "text/plain": [
       "        Avg Temp  Max Temp  Min Temp\n",
       "Date                                \n",
       "07-15  76.218182        82        68\n",
       "07-16  76.285714        83        70\n",
       "07-17  76.392157        83        70\n",
       "07-18  76.627451        83        72\n",
       "07-19  75.830189        83        68\n",
       "07-20  75.326923        82        69\n",
       "07-21  76.979592        83        69\n",
       "07-22  75.755102        81        69\n",
       "07-23  75.940000        82        70\n",
       "07-24  76.400000        81        69\n",
       "07-25  76.941176        84        67\n",
       "07-26  76.411765        86        71\n",
       "07-27  76.367347        83        68\n",
       "07-28  76.452830        82        69\n",
       "07-29  76.460000        83        69\n",
       "07-30  77.104167        84        69\n",
       "07-31  76.687500        83        72"
      ]
     },
     "execution_count": 351,
     "metadata": {},
     "output_type": "execute_result"
    }
   ],
   "source": [
    "normals_df= normals_df.set_index('Date')\n",
    "normals_df"
   ]
  },
  {
   "cell_type": "code",
   "execution_count": 352,
   "metadata": {},
   "outputs": [
    {
     "data": {
      "image/png": "[encoded data removed]",
      "text/plain": [
       "<matplotlib.figure.Figure at 0x25d996447b8>"
      ]
     },
     "metadata": {},
     "output_type": "display_data"
    },
    {
     "data": {
      "text/plain": [
       "<matplotlib.figure.Figure at 0x25d8e4a89b0>"
      ]
     },
     "metadata": {},
     "output_type": "display_data"
    }
   ],
   "source": [
    "normals_df.plot(kind=\"area\", stacked=False)\n",
    "plt.ylim(60,90)\n",
    "plt.xticks(range(16), trip_list, rotation=45)\n",
    "plt.title('Daily Normals for Trip Dates')\n",
    "plt.ylabel('Temperature')\n",
    "plt.show()\n",
    "plt.savefig('daily_normals_area_chart.png')"
   ]
  },
  {
   "cell_type": "code",
   "execution_count": null,
   "metadata": {},
   "outputs": [],
   "source": []
  }
 ],
 "metadata": {
  "kernelspec": {
   "display_name": "Python 3",
   "language": "python",
   "name": "python3"
  },
  "language_info": {
   "codemirror_mode": {
    "name": "ipython",
    "version": 3
   },
   "file_extension": ".py",
   "mimetype": "text/x-python",
   "name": "python",
   "nbconvert_exporter": "python",
   "pygments_lexer": "ipython3",
   "version": "3.6.4"
  }
 },
 "nbformat": 4,
 "nbformat_minor": 2
}
