{
 "cells": [
  {
   "cell_type": "code",
   "execution_count": 1,
   "metadata": {},
   "outputs": [],
   "source": [
    "#import dependencies\n",
    "import pandas as pd\n",
    "import matplotlib.pyplot as plt"
   ]
  },
  {
   "cell_type": "code",
   "execution_count": 2,
   "metadata": {},
   "outputs": [],
   "source": [
    "#create a file path\n",
    "city_path = \"raw_data/city_data.csv\"\n",
    "ride_path = \"raw_data/ride_data.csv\""
   ]
  },
  {
   "cell_type": "code",
   "execution_count": 3,
   "metadata": {},
   "outputs": [],
   "source": [
    "#save csv's into a pandas dataframe\n",
    "cities = pd.read_csv(city_path)\n",
    "rides = pd.read_csv(ride_path)"
   ]
  },
  {
   "cell_type": "code",
   "execution_count": 4,
   "metadata": {
    "scrolled": true
   },
   "outputs": [],
   "source": [
    "#merge the cities df and the rides df on \"city\"\n",
    "df = pd.merge(cities, rides, on=\"city\")"
   ]
  },
  {
   "cell_type": "code",
   "execution_count": 5,
   "metadata": {},
   "outputs": [],
   "source": [
    "#create a summary dataframe based with the city as index for calculations\n",
    "summary_df = df.groupby(df[\"city\"]).size()\n",
    "summary_df = pd.DataFrame(summary_df)\n",
    "summary_df = summary_df.rename(columns={0: \"total_rides\"})"
   ]
  },
  {
   "cell_type": "code",
   "execution_count": 6,
   "metadata": {},
   "outputs": [],
   "source": [
    "#add sum of fares and average fare to the summary dataframe\n",
    "summary_df[\"sum_fares\"] = df.groupby([\"city\"]).sum()[\"fare\"]\n",
    "summary_df[\"average_fare\"] = summary_df[\"sum_fares\"] / summary_df[\"total_rides\"]"
   ]
  },
  {
   "cell_type": "code",
   "execution_count": 7,
   "metadata": {},
   "outputs": [
    {
     "data": {
      "text/html": [
       "<div>\n",
       "<style scoped>\n",
       "    .dataframe tbody tr th:only-of-type {\n",
       "        vertical-align: middle;\n",
       "    }\n",
       "\n",
       "    .dataframe tbody tr th {\n",
       "        vertical-align: top;\n",
       "    }\n",
       "\n",
       "    .dataframe thead th {\n",
       "        text-align: right;\n",
       "    }\n",
       "</style>\n",
       "<table border=\"1\" class=\"dataframe\">\n",
       "  <thead>\n",
       "    <tr style=\"text-align: right;\">\n",
       "      <th></th>\n",
       "      <th>city</th>\n",
       "      <th>total_rides</th>\n",
       "      <th>sum_fares</th>\n",
       "      <th>average_fare</th>\n",
       "      <th>driver_count</th>\n",
       "      <th>type</th>\n",
       "    </tr>\n",
       "  </thead>\n",
       "  <tbody>\n",
       "    <tr>\n",
       "      <th>0</th>\n",
       "      <td>Alvarezhaven</td>\n",
       "      <td>31</td>\n",
       "      <td>741.79</td>\n",
       "      <td>23.928710</td>\n",
       "      <td>21</td>\n",
       "      <td>Urban</td>\n",
       "    </tr>\n",
       "    <tr>\n",
       "      <th>1</th>\n",
       "      <td>Alyssaberg</td>\n",
       "      <td>26</td>\n",
       "      <td>535.85</td>\n",
       "      <td>20.609615</td>\n",
       "      <td>67</td>\n",
       "      <td>Urban</td>\n",
       "    </tr>\n",
       "    <tr>\n",
       "      <th>2</th>\n",
       "      <td>Anitamouth</td>\n",
       "      <td>9</td>\n",
       "      <td>335.84</td>\n",
       "      <td>37.315556</td>\n",
       "      <td>16</td>\n",
       "      <td>Suburban</td>\n",
       "    </tr>\n",
       "    <tr>\n",
       "      <th>3</th>\n",
       "      <td>Antoniomouth</td>\n",
       "      <td>22</td>\n",
       "      <td>519.75</td>\n",
       "      <td>23.625000</td>\n",
       "      <td>21</td>\n",
       "      <td>Urban</td>\n",
       "    </tr>\n",
       "    <tr>\n",
       "      <th>4</th>\n",
       "      <td>Aprilchester</td>\n",
       "      <td>19</td>\n",
       "      <td>417.65</td>\n",
       "      <td>21.981579</td>\n",
       "      <td>49</td>\n",
       "      <td>Urban</td>\n",
       "    </tr>\n",
       "  </tbody>\n",
       "</table>\n",
       "</div>"
      ],
      "text/plain": [
       "           city  total_rides  sum_fares  average_fare  driver_count      type\n",
       "0  Alvarezhaven           31     741.79     23.928710            21     Urban\n",
       "1    Alyssaberg           26     535.85     20.609615            67     Urban\n",
       "2    Anitamouth            9     335.84     37.315556            16  Suburban\n",
       "3  Antoniomouth           22     519.75     23.625000            21     Urban\n",
       "4  Aprilchester           19     417.65     21.981579            49     Urban"
      ]
     },
     "execution_count": 7,
     "metadata": {},
     "output_type": "execute_result"
    }
   ],
   "source": [
    "summary_df = summary_df.reset_index()\n",
    "summary_df = pd.merge(summary_df, cities, how=\"right\", on=\"city\")\n",
    "summary_df.head()"
   ]
  },
  {
   "cell_type": "code",
   "execution_count": 26,
   "metadata": {},
   "outputs": [],
   "source": [
    "#create variables by type\n",
    "#nineth_graders = school_data_complete[(school_data_complete[\"grade\"] == \"9th\")]\n",
    "urban = summary_df.loc[(summary_df['type'] == 'Urban')]\n",
    "suburban = summary_df.loc[(summary_df['type'] == 'Suburban')]\n",
    "rural = summary_df.loc[(summary_df['type'] == \"Rural\")]\n"
   ]
  },
  {
   "cell_type": "code",
   "execution_count": 25,
   "metadata": {},
   "outputs": [
    {
     "data": {
      "text/plain": [
       "<function matplotlib.pyplot.show>"
      ]
     },
     "execution_count": 25,
     "metadata": {},
     "output_type": "execute_result"
    },
    {
     "data": {
      "image/png": "[encoded data removed]",
      "text/plain": [
       "<matplotlib.figure.Figure at 0x258215df160>"
      ]
     },
     "metadata": {},
     "output_type": "display_data"
    }
   ],
   "source": [
    "#build the bubble plot\n",
    "#create variables from the summary dataframe\n",
    "\n",
    "plt.scatter(urban[\"total_rides\"], urban['average_fare'], marker=\"o\", color='b', edgecolors=\"black\", s=urban['driver_count'], alpha=0.75)\n",
    "plt.scatter(suburban[\"total_rides\"], suburban['average_fare'], marker=\"o\", color='r', edgecolors=\"black\", s=suburban['driver_count'], alpha=0.75)\n",
    "plt.scatter(rural[\"total_rides\"], rural['average_fare'], marker=\"o\", color='g', edgecolors=\"black\", s=rural['driver_count'], alpha=0.75)\n",
    "plt.grid()\n",
    "plt.title (\"Pyber Ride Sharing Data(2016)\")\n",
    "plt.xlabel('Total Number of Rides (Per City)')\n",
    "plt.ylabel('Average Fare ($)')\n",
    "#label\n",
    "#note\n",
    "plt.show"
   ]
  },
  {
   "cell_type": "code",
   "execution_count": null,
   "metadata": {},
   "outputs": [],
   "source": [
    "#create the pie chart for % of Total Rides by City Type"
   ]
  },
  {
   "cell_type": "code",
   "execution_count": null,
   "metadata": {},
   "outputs": [],
   "source": [
    "#create the pie chart for total rides by city type"
   ]
  },
  {
   "cell_type": "code",
   "execution_count": null,
   "metadata": {},
   "outputs": [],
   "source": [
    "#create the pie chart for total drivers by city type"
   ]
  }
 ],
 "metadata": {
  "kernelspec": {
   "display_name": "Python 3",
   "language": "python",
   "name": "python3"
  },
  "language_info": {
   "codemirror_mode": {
    "name": "ipython",
    "version": 3
   },
   "file_extension": ".py",
   "mimetype": "text/x-python",
   "name": "python",
   "nbconvert_exporter": "python",
   "pygments_lexer": "ipython3",
   "version": "3.6.4"
  }
 },
 "nbformat": 4,
 "nbformat_minor": 2
}
