{
 "cells": [
  {
   "cell_type": "code",
   "execution_count": 9,
   "metadata": {},
   "outputs": [],
   "source": [
    "#import dependencies\n",
    "import pandas as pd\n",
    "import matplotlib.pyplot as plt"
   ]
  },
  {
   "cell_type": "code",
   "execution_count": 10,
   "metadata": {},
   "outputs": [],
   "source": [
    "#create a file path\n",
    "city_path = \"raw_data/city_data.csv\"\n",
    "ride_path = \"raw_data/ride_data.csv\""
   ]
  },
  {
   "cell_type": "code",
   "execution_count": 11,
   "metadata": {},
   "outputs": [],
   "source": [
    "#save csv's into a pandas dataframe\n",
    "cities = pd.read_csv(city_path)\n",
    "rides = pd.read_csv(ride_path)"
   ]
  },
  {
   "cell_type": "code",
   "execution_count": 12,
   "metadata": {
    "scrolled": true
   },
   "outputs": [],
   "source": [
    "#merge the cities df and the rides df on \"city\"\n",
    "df = pd.merge(cities, rides, on=\"city\")"
   ]
  },
  {
   "cell_type": "code",
   "execution_count": 13,
   "metadata": {},
   "outputs": [],
   "source": [
    "#create a summary dataframe based with the city as index for calculations\n",
    "summary_df = df.groupby(df[\"city\"]).size()\n",
    "summary_df = pd.DataFrame(summary_df)\n",
    "summary_df = summary_df.rename(columns={0: \"total_rides\"})"
   ]
  },
  {
   "cell_type": "code",
   "execution_count": 14,
   "metadata": {},
   "outputs": [],
   "source": [
    "#add sum of fares and average fare to the summary dataframe\n",
    "summary_df[\"sum_fares\"] = df.groupby([\"city\"]).sum()[\"fare\"]\n",
    "summary_df[\"average_fare\"] = summary_df[\"sum_fares\"] / summary_df[\"total_rides\"]"
   ]
  },
  {
   "cell_type": "code",
   "execution_count": 15,
   "metadata": {},
   "outputs": [
    {
     "data": {
      "text/html": [
       "<div>\n",
       "<style scoped>\n",
       "    .dataframe tbody tr th:only-of-type {\n",
       "        vertical-align: middle;\n",
       "    }\n",
       "\n",
       "    .dataframe tbody tr th {\n",
       "        vertical-align: top;\n",
       "    }\n",
       "\n",
       "    .dataframe thead th {\n",
       "        text-align: right;\n",
       "    }\n",
       "</style>\n",
       "<table border=\"1\" class=\"dataframe\">\n",
       "  <thead>\n",
       "    <tr style=\"text-align: right;\">\n",
       "      <th></th>\n",
       "      <th>city</th>\n",
       "      <th>total_rides</th>\n",
       "      <th>sum_fares</th>\n",
       "      <th>average_fare</th>\n",
       "      <th>driver_count</th>\n",
       "      <th>type</th>\n",
       "    </tr>\n",
       "  </thead>\n",
       "  <tbody>\n",
       "    <tr>\n",
       "      <th>0</th>\n",
       "      <td>Alvarezhaven</td>\n",
       "      <td>31</td>\n",
       "      <td>741.79</td>\n",
       "      <td>23.928710</td>\n",
       "      <td>21</td>\n",
       "      <td>Urban</td>\n",
       "    </tr>\n",
       "    <tr>\n",
       "      <th>1</th>\n",
       "      <td>Alyssaberg</td>\n",
       "      <td>26</td>\n",
       "      <td>535.85</td>\n",
       "      <td>20.609615</td>\n",
       "      <td>67</td>\n",
       "      <td>Urban</td>\n",
       "    </tr>\n",
       "    <tr>\n",
       "      <th>2</th>\n",
       "      <td>Anitamouth</td>\n",
       "      <td>9</td>\n",
       "      <td>335.84</td>\n",
       "      <td>37.315556</td>\n",
       "      <td>16</td>\n",
       "      <td>Suburban</td>\n",
       "    </tr>\n",
       "    <tr>\n",
       "      <th>3</th>\n",
       "      <td>Antoniomouth</td>\n",
       "      <td>22</td>\n",
       "      <td>519.75</td>\n",
       "      <td>23.625000</td>\n",
       "      <td>21</td>\n",
       "      <td>Urban</td>\n",
       "    </tr>\n",
       "    <tr>\n",
       "      <th>4</th>\n",
       "      <td>Aprilchester</td>\n",
       "      <td>19</td>\n",
       "      <td>417.65</td>\n",
       "      <td>21.981579</td>\n",
       "      <td>49</td>\n",
       "      <td>Urban</td>\n",
       "    </tr>\n",
       "  </tbody>\n",
       "</table>\n",
       "</div>"
      ],
      "text/plain": [
       "           city  total_rides  sum_fares  average_fare  driver_count      type\n",
       "0  Alvarezhaven           31     741.79     23.928710            21     Urban\n",
       "1    Alyssaberg           26     535.85     20.609615            67     Urban\n",
       "2    Anitamouth            9     335.84     37.315556            16  Suburban\n",
       "3  Antoniomouth           22     519.75     23.625000            21     Urban\n",
       "4  Aprilchester           19     417.65     21.981579            49     Urban"
      ]
     },
     "execution_count": 15,
     "metadata": {},
     "output_type": "execute_result"
    }
   ],
   "source": [
    "summary_df = summary_df.reset_index()\n",
    "summary_df = pd.merge(summary_df, cities, how=\"right\", on=\"city\")\n",
    "summary_df.head()"
   ]
  },
  {
   "cell_type": "code",
   "execution_count": 26,
   "metadata": {},
   "outputs": [
    {
     "data": {
      "text/plain": [
       "type\n",
       "Rural       34.040720\n",
       "Suburban    31.028169\n",
       "Urban       24.663594\n",
       "dtype: float64"
      ]
     },
     "execution_count": 26,
     "metadata": {},
     "output_type": "execute_result"
    }
   ],
   "source": [
    "#create variables by type\n",
    "\n",
    "#urban\n",
    "urban_rides = summary_df.groupby([\"type\"]).sum()[\"total_rides\"]\n",
    "urban_drivers = summary_df.groupby([\"type\"]).sum()[\"driver_count\"]\n",
    "urban_average_fare = (summary_df.groupby([\"type\"]).sum()[\"sum_fares\"]) / (summary_df.groupby([\"type\"]).sum()[\"total_rides\"])\n",
    "urban_average_fare"
   ]
  },
  {
   "cell_type": "code",
   "execution_count": 17,
   "metadata": {},
   "outputs": [
    {
     "data": {
      "text/plain": [
       "<matplotlib.collections.PathCollection at 0x20249981ac8>"
      ]
     },
     "execution_count": 17,
     "metadata": {},
     "output_type": "execute_result"
    },
    {
     "data": {
      "image/png": "[encoded data removed]",
      "text/plain": [
       "<matplotlib.figure.Figure at 0x202495fe0f0>"
      ]
     },
     "metadata": {},
     "output_type": "display_data"
    }
   ],
   "source": [
    "#build the bubble plot\n",
    "#create variables from the summary dataframe\n",
    "rides = summary_df[\"total_rides\"]\n",
    "average_fares = summary_df[\"average_fare\"]\n",
    "driver_count = summary_df[\"driver_count\"]\n",
    "\n",
    "#create variables for the chart aesthetics\n",
    "#colors = ['Gold', 'Light Sky Blue', 'Light Coral']\n",
    "\n",
    "plt.scatter(rides, average_fares, marker=\"o\", edgecolors=\"black\", s=driver_count, alpha=0.75)"
   ]
  },
  {
   "cell_type": "code",
   "execution_count": null,
   "metadata": {},
   "outputs": [],
   "source": []
  },
  {
   "cell_type": "code",
   "execution_count": null,
   "metadata": {},
   "outputs": [],
   "source": []
  }
 ],
 "metadata": {
  "kernelspec": {
   "display_name": "Python 3",
   "language": "python",
   "name": "python3"
  },
  "language_info": {
   "codemirror_mode": {
    "name": "ipython",
    "version": 3
   },
   "file_extension": ".py",
   "mimetype": "text/x-python",
   "name": "python",
   "nbconvert_exporter": "python",
   "pygments_lexer": "ipython3",
   "version": "3.6.4"
  }
 },
 "nbformat": 4,
 "nbformat_minor": 2
}
