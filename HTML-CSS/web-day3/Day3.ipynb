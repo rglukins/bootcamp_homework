{
 "cells": [
  {
   "cell_type": "markdown",
   "metadata": {},
   "source": [
    "# Activity Students 1 \n",
    "## CSS Review\n",
    "\n",
    "* In this activity we will review CSS by attempting to recreate a web page.\n",
    "\n",
    "## Instructions\n",
    "\n",
    "* Open the [Unsolved Folder](Unsolved). For this activity, you are adding CSS styles to the `index.html` file in this folder.\n",
    "\n",
    "* Take a moment to study the [`01-CSS-Review.png`](Images/01-CSS-Review.png) image. The provided HTML file has all of the required elements included to create the web page described, but none of the CSS.\n",
    "\n",
    "  ![01-CSS-Review.png](Images/01-CSS-Review.png)\n",
    "\n",
    "* Add styles to the `styles.css` file to make `index.html` look like the web page in `01-CSS-Review.png`.\n",
    "\n",
    "* Try to get your styles as close to the image as possible."
   ]
  },
  {
   "cell_type": "markdown",
   "metadata": {},
   "source": [
    "# Activity 2 Students Chrome Devtools\n",
    "\n",
    "* In this activity we will use Chrome Devtools to modify the rendered HTML and CSS of an existing website.\n",
    "\n",
    "## Instructions\n",
    "\n",
    "* Navigate to the website of your choice and open Chrome Devtools. In particular, you want to open the element inspector.\n",
    "\n",
    "  * You can open launch Devtools with `Cmd + Option + I` on  a Mac and `Ctrl + Shift + I` on a PC. Alternatively, just right-click the web page and select the \"inspect\" option. Make sure the `Elements` tab is selected.\n",
    "\n",
    "* From here, modify the web page inside of the element inspector. Examples of possible modifications include:\n",
    "\n",
    "  * Edit the text inside the HTML tags.\n",
    "\n",
    "  * Change the HTML tags. e.g. turn all the `<p>` tags into `<h1>` or `<strong>` tags.\n",
    "\n",
    "  * Alter an element's CSS, e.g. make all of the text green or give the HTML document a background image.\n",
    "\n",
    "  * Insert brand new HTML into the DOM.\n",
    "\n",
    "  * Delete a few HTML elements.\n",
    "\n",
    "* Try and have fun here, get creative!\n",
    "\n",
    "* Once you're happy with your modification, take a screenshot of the modified page and slack it out in the class channel."
   ]
  },
  {
   "cell_type": "markdown",
   "metadata": {},
   "source": [
    "# Activity 3 Instructor Turn Media Queries\n",
    "\n",
    "* The purpose of this activity is to demonstrate how media queries can be used to apply different CSS rules to elements.\n",
    "\n",
    "## Instructions\n",
    "\n",
    "* Open the `index.html` file in your browser and open `styles.css` in your editor.\n",
    "\n",
    "* Uncomment the first CSS rule inside of the media query and resize your browser window. Once the screen shrinks below 480px, `.box-1` should turn purple.\n",
    "\n",
    "* Repeat this for each CSS rule inside of the media query and notice how the new rules are applied only when the screen shrinks to 480px or less.\n",
    "\n",
    "* Any number of media queries can be added in order to apply styles that are specific to specified minimum or maximum screen sizes."
   ]
  },
  {
   "cell_type": "markdown",
   "metadata": {},
   "source": [
    "# Activity 4 Students # Media Queries\n",
    "\n",
    "* In this activity we will continue working with the solution to the review activity from earlier today. We will add media queries to make the web page more responsive at smaller screen sizes.\n",
    "\n",
    "## Instructions\n",
    "\n",
    "* Open the (activity 4) and add media queries to decrease the size of the `li` tags inside the `navbar` so they fit when we shrink the screen size. We can probably do this by reducing each `li` element's `padding`.\n",
    "\n",
    "* Also reduce the `padding` along each side of the `article` with a class of `post`.\n",
    "\n",
    "## Bonus\n",
    "\n",
    "* Try making the `li` elements inside the `navbar` disappear entirely in place of a drop-down menu with all of the same options.\n",
    "\n",
    "## Hints\n",
    "\n",
    "* A reference for media query syntax can be found at [MDN Docs](https://developer.mozilla.org/en-US/docs/Web/CSS/Media_Queries/Using_media_queries)\n",
    "\n",
    "* You can create a drop-down menu using the `select` and `option` elements. See [MDN Docs](https://developer.mozilla.org/en-US/docs/Web/HTML/Element/select) for `select` elements.\n",
    "\n",
    "* You can show and hide elements on a web page with the visibility property. See [MDN Docs](https://developer.mozilla.org/en-US/docs/Web/CSS/visibility)"
   ]
  },
  {
   "cell_type": "markdown",
   "metadata": {},
   "source": [
    "# Activity 5 Instructor\n",
    "\n",
    "# Bootstrap Demo\n",
    "\n",
    "* The purpose of this activity is to demonstrate how the Bootstrap grid can be used to create a web layout.\n"
   ]
  },
  {
   "cell_type": "markdown",
   "metadata": {},
   "source": [
    "# Activity 6 Student Turn Lorem Grid\n",
    "\n",
    "* In this activity we will attempt to recreate a layout using the Bootstrap grid system.\n",
    "\n",
    "## Instructions\n",
    "\n",
    "* Open [`04-Lorem-Grid.png`](Images/04-Lorem-Grid.png) file located within the [`Images`](Images) folder.\n",
    "\n",
    "* Take a moment to study the image and create this layout using Bootstrap grid.\n",
    "\n",
    "* You can use [lorem ipsum](http://www.lipsum.com/) for the text.\n",
    "\n",
    "* You can read about the grid system here: <http://getbootstrap.com/css/#grid>\n",
    "\n",
    "## Hints\n",
    "\n",
    "* Container > Row > Column"
   ]
  },
  {
   "cell_type": "markdown",
   "metadata": {},
   "source": [
    "# Activity 7 Students turn Bootstrap Components\n",
    "\n",
    "* In this activity we will research and utilize Bootstrap components inside of an HTML document.\n",
    "\n",
    "## Instructions\n",
    "\n",
    "* With a partner, navigate to <http://getbootstrap.com/components/>\n",
    "\n",
    "* Create a new HTML file, try to include at least 10 different Bootstrap components in this file, and be ready to discuss after the activity.\n",
    "\n",
    "* You can add a Bootstrap component inside of your document by copying and pasting any of the examples on the Bootstrap Components page."
   ]
  },
  {
   "cell_type": "markdown",
   "metadata": {
    "collapsed": true
   },
   "source": [
    "# Instructor Turn Activity 8 Responsive Cols\n",
    "\n",
    "* The purpose of this activity is to demonstrate how we can use different sized Bootstrap column classes on the same element to control how it should appear at various screen sizes.\n"
   ]
  },
  {
   "cell_type": "markdown",
   "metadata": {},
   "source": [
    "# Clone a Website\n",
    "\n",
    "* In this activity we will attempt to recreate an existing website using Bootstrap.\n",
    "\n",
    "## Students Turn Activity 9 Instructions\n",
    "\n",
    "* For the remainder of class, you will be using Bootstrap to create a clone of one of the following websites:\n",
    "\n",
    "  * <https://github.com/>\n",
    "  * <http://stackoverflow.com/>\n",
    "  * <https://twitter.com/>\n",
    "  * <https://www.amazon.com/>\n",
    "  * <https://www.microsoft.com/en-us/>\n",
    "\n",
    "* Use the inspector to find color values for elements on the real website, along with any other values you may need.\n",
    "\n",
    "* Use the Bootstrap grid to space the various components on your web page to roughly where they fall on the real site. Don't worry too much about being exact here!\n",
    "\n",
    "* If you have another website you would like to try instead, run it by your instructor for approval.\n",
    "\n",
    "* Note: You'll still need to include your own CSS file to add more specific custom styling to your web page. Make sure this is included in your `index.html` file **after** Bootstrap is included."
   ]
  },
  {
   "cell_type": "code",
   "execution_count": null,
   "metadata": {},
   "outputs": [],
   "source": []
  }
 ],
 "metadata": {
  "kernelspec": {
   "display_name": "Python 3",
   "language": "python",
   "name": "python3"
  },
  "language_info": {
   "codemirror_mode": {
    "name": "ipython",
    "version": 3
   },
   "file_extension": ".py",
   "mimetype": "text/x-python",
   "name": "python",
   "nbconvert_exporter": "python",
   "pygments_lexer": "ipython3",
   "version": "3.6.4"
  }
 },
 "nbformat": 4,
 "nbformat_minor": 2
}
