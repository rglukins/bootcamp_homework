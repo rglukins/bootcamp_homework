{
 "cells": [
  {
   "cell_type": "code",
   "execution_count": 7,
   "metadata": {},
   "outputs": [],
   "source": [
    "import pandas as pd\n",
    "from citipy import citipy\n",
    "import openweathermapy.core as owm\n",
    "import json\n",
    "import os\n"
   ]
  },
  {
   "cell_type": "code",
   "execution_count": 8,
   "metadata": {},
   "outputs": [],
   "source": [
    "with open('city_data.json', 'r') as infile:\n",
    "    data = json.load(infile)"
   ]
  },
  {
   "cell_type": "code",
   "execution_count": 9,
   "metadata": {},
   "outputs": [
    {
     "data": {
      "text/plain": [
       "48.2"
      ]
     },
     "execution_count": 9,
     "metadata": {},
     "output_type": "execute_result"
    }
   ],
   "source": [
    "t = data[0]['main']['temp']\n",
    "t"
   ]
  },
  {
   "cell_type": "code",
   "execution_count": 10,
   "metadata": {},
   "outputs": [
    {
     "data": {
      "text/plain": [
       "'La Ronge'"
      ]
     },
     "execution_count": 10,
     "metadata": {},
     "output_type": "execute_result"
    }
   ],
   "source": [
    "n = data[0]['name']\n",
    "n"
   ]
  },
  {
   "cell_type": "code",
   "execution_count": 11,
   "metadata": {},
   "outputs": [
    {
     "data": {
      "text/plain": [
       "{'base': 'stations',\n",
       " 'clouds': {'all': 1},\n",
       " 'cod': 200,\n",
       " 'coord': {'lat': 36.62, 'lon': -121.92},\n",
       " 'dt': 1527868500,\n",
       " 'id': 5380437,\n",
       " 'main': {'humidity': 67,\n",
       "  'pressure': 1019,\n",
       "  'temp': 56.28,\n",
       "  'temp_max': 57.2,\n",
       "  'temp_min': 55.4},\n",
       " 'name': 'Pacific Grove',\n",
       " 'sys': {'country': 'US',\n",
       "  'id': 431,\n",
       "  'message': 0.0043,\n",
       "  'sunrise': 1527857422,\n",
       "  'sunset': 1527909677,\n",
       "  'type': 1},\n",
       " 'visibility': 16093,\n",
       " 'weather': [{'description': 'clear sky',\n",
       "   'icon': '01d',\n",
       "   'id': 800,\n",
       "   'main': 'Clear'}],\n",
       " 'wind': {'deg': 280, 'speed': 4.7}}"
      ]
     },
     "execution_count": 11,
     "metadata": {},
     "output_type": "execute_result"
    }
   ],
   "source": [
    "d = data[1]\n",
    "d"
   ]
  },
  {
   "cell_type": "code",
   "execution_count": 12,
   "metadata": {},
   "outputs": [
    {
     "name": "stdout",
     "output_type": "stream",
     "text": [
      "[76, 67, 65, 62, 66]\n",
      "['La Ronge', 'Pacific Grove', 'Ushuaia', 'Tyulgan', 'Acapulco']\n",
      "[55.1, 36.62, -54.81, 52.34, 16.86]\n"
     ]
    }
   ],
   "source": [
    "humidity = [city['main']['humidity'] for city in data]\n",
    "ws = [city['wind']['speed'] for city in data]\n",
    "country = [city['sys']['country'] for city in data]\n",
    "longitude = [city['coord']['lon'] for city in data]\n",
    "latitude = [city['coord']['lat'] for city in data]\n",
    "temperature = [city['main']['temp'] for city in data]\n",
    "cloudiness = [city['clouds']['all'] for city in data]\n",
    "city = [city['name'] for city in data]\n",
    "print(humidity[0:5])\n",
    "print(city[0:5])\n",
    "print(latitude[0:5])"
   ]
  },
  {
   "cell_type": "code",
   "execution_count": null,
   "metadata": {},
   "outputs": [],
   "source": []
  },
  {
   "cell_type": "code",
   "execution_count": null,
   "metadata": {},
   "outputs": [],
   "source": []
  }
 ],
 "metadata": {
  "kernelspec": {
   "display_name": "Python 3",
   "language": "python",
   "name": "python3"
  },
  "language_info": {
   "codemirror_mode": {
    "name": "ipython",
    "version": 3
   },
   "file_extension": ".py",
   "mimetype": "text/x-python",
   "name": "python",
   "nbconvert_exporter": "python",
   "pygments_lexer": "ipython3",
   "version": "3.6.4"
  }
 },
 "nbformat": 4,
 "nbformat_minor": 2
}
