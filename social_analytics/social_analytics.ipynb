{
 "cells": [
  {
   "cell_type": "markdown",
   "metadata": {},
   "source": [
    "# Analysis\n",
    "\n",
    "* News organizations tend towards neutrality in their public tweets. It is rare for them to exhibit hight positive or negative sentiment scores, and their compound scores generally fall in the neutral range.\n",
    "* The BBC World News displayed the most consistently neutral position, as its average compound score was just one one-hundreth below zero.\n",
    "* On the day of analysis, the New York Times displayed the greatest negativity of the five outlets examined. Though it's average compound score was only slightly negative, this is somewhat surprising given its reputation for objectivity."
   ]
  },
  {
   "cell_type": "code",
   "execution_count": 125,
   "metadata": {},
   "outputs": [],
   "source": [
    "# import dependencies\n",
    "import tweepy\n",
    "import matplotlib.pyplot as plt\n",
    "import pandas as pd\n",
    "import json\n",
    "import numpy as np\n",
    "from datetime import datetime\n",
    "from config import consumer_key, consumer_secret, access_token, access_token_secret\n",
    "from vaderSentiment.vaderSentiment import SentimentIntensityAnalyzer"
   ]
  },
  {
   "cell_type": "code",
   "execution_count": 126,
   "metadata": {},
   "outputs": [],
   "source": [
    "# set up twitter authentications\n",
    "consumer_key = consumer_key\n",
    "consumer_secret = consumer_secret\n",
    "access_token = access_token\n",
    "access_token_secret = access_token_secret\n",
    "\n",
    "# Tweepy API Authentication\n",
    "auth = tweepy.OAuthHandler(consumer_key, consumer_secret)\n",
    "auth.set_access_token(access_token, access_token_secret)\n",
    "api = tweepy.API(auth, parser=tweepy.parsers.JSONParser())"
   ]
  },
  {
   "cell_type": "code",
   "execution_count": 127,
   "metadata": {},
   "outputs": [],
   "source": [
    "# initialize sentiment analyzer\n",
    "analyzer = SentimentIntensityAnalyzer()"
   ]
  },
  {
   "cell_type": "code",
   "execution_count": 128,
   "metadata": {},
   "outputs": [],
   "source": [
    "# identify target twitter accounts\n",
    "targets = ['BBCWorld', 'CBSNews', 'CNN', 'FoxNews', 'nytimes']"
   ]
  },
  {
   "cell_type": "code",
   "execution_count": 129,
   "metadata": {},
   "outputs": [],
   "source": [
    "# set up lists to hold the data from api calls and sentiment analysis\n",
    "twitter_feed = []\n",
    "source_account = []\n",
    "text = []\n",
    "date = []\n",
    "counterlist = []\n",
    "compound = []\n",
    "positive = []\n",
    "neutral = []\n",
    "negative = []"
   ]
  },
  {
   "cell_type": "code",
   "execution_count": 131,
   "metadata": {},
   "outputs": [],
   "source": [
    "# create loop to make api call and analyze the sentiment\n",
    "for target in targets:\n",
    "    \n",
    "    #get the tweets from api call\n",
    "    tweets = api.user_timeline(target, count=100, result_type=\"recent\")\n",
    "    # set a counter for establishing 'tweets ago'\n",
    "    counter = 1\n",
    "    \n",
    "    # start the loop to collect and sort the data\n",
    "    for tweet in tweets:\n",
    "        twitter_feed.append(target)\n",
    "        source_account.append(tweet[\"user\"][\"name\"])\n",
    "        text.append(tweet[\"text\"])\n",
    "        date.append(tweet[\"created_at\"])\n",
    "        counterlist.append(counter)\n",
    "        \n",
    "        #add to the counter\n",
    "        counter += 1"
   ]
  },
  {
   "cell_type": "code",
   "execution_count": 132,
   "metadata": {},
   "outputs": [],
   "source": [
    "# loop through the text of the tweets to analyze the sentiments\n",
    "for data in text:\n",
    "    \n",
    "    # run the sentiment analysis on each tweet\n",
    "    sentiment = analyzer.polarity_scores(data)\n",
    "    \n",
    "    # Add each value to the appropriate array\n",
    "    positive.append(sentiment[\"pos\"])\n",
    "    negative.append(sentiment[\"neg\"])\n",
    "    neutral.append(sentiment[\"neu\"])\n",
    "    compound.append(sentiment[\"compound\"])"
   ]
  },
  {
   "cell_type": "code",
   "execution_count": 133,
   "metadata": {},
   "outputs": [
    {
     "data": {
      "text/html": [
       "<div>\n",
       "<style scoped>\n",
       "    .dataframe tbody tr th:only-of-type {\n",
       "        vertical-align: middle;\n",
       "    }\n",
       "\n",
       "    .dataframe tbody tr th {\n",
       "        vertical-align: top;\n",
       "    }\n",
       "\n",
       "    .dataframe thead th {\n",
       "        text-align: right;\n",
       "    }\n",
       "</style>\n",
       "<table border=\"1\" class=\"dataframe\">\n",
       "  <thead>\n",
       "    <tr style=\"text-align: right;\">\n",
       "      <th></th>\n",
       "      <th>Twitter Feed</th>\n",
       "      <th>Source Account</th>\n",
       "      <th>Tweets Ago</th>\n",
       "      <th>Tweet</th>\n",
       "      <th>Tweet Date</th>\n",
       "      <th>Compound Score</th>\n",
       "      <th>Positive Score</th>\n",
       "      <th>Neutral Score</th>\n",
       "      <th>Negative Score</th>\n",
       "    </tr>\n",
       "  </thead>\n",
       "  <tbody>\n",
       "    <tr>\n",
       "      <th>0</th>\n",
       "      <td>BBCWorld</td>\n",
       "      <td>BBC News (World)</td>\n",
       "      <td>1</td>\n",
       "      <td>World Cup: Nike boots barred for Iran football...</td>\n",
       "      <td>Tue Jun 12 18:37:34 +0000 2018</td>\n",
       "      <td>0.00</td>\n",
       "      <td>0.000</td>\n",
       "      <td>1.000</td>\n",
       "      <td>0.0</td>\n",
       "    </tr>\n",
       "    <tr>\n",
       "      <th>1</th>\n",
       "      <td>BBCWorld</td>\n",
       "      <td>BBC News (World)</td>\n",
       "      <td>2</td>\n",
       "      <td>Jean-Pierre Bemba: ICC orders release of Congo...</td>\n",
       "      <td>Tue Jun 12 18:05:58 +0000 2018</td>\n",
       "      <td>0.00</td>\n",
       "      <td>0.000</td>\n",
       "      <td>1.000</td>\n",
       "      <td>0.0</td>\n",
       "    </tr>\n",
       "    <tr>\n",
       "      <th>2</th>\n",
       "      <td>BBCWorld</td>\n",
       "      <td>BBC News (World)</td>\n",
       "      <td>3</td>\n",
       "      <td>Macedonia and Greece: Deal after 27-year row o...</td>\n",
       "      <td>Tue Jun 12 16:55:28 +0000 2018</td>\n",
       "      <td>0.00</td>\n",
       "      <td>0.000</td>\n",
       "      <td>1.000</td>\n",
       "      <td>0.0</td>\n",
       "    </tr>\n",
       "    <tr>\n",
       "      <th>3</th>\n",
       "      <td>BBCWorld</td>\n",
       "      <td>BBC News (World)</td>\n",
       "      <td>4</td>\n",
       "      <td>Navarro sorry for 'special place in hell'' for...</td>\n",
       "      <td>Tue Jun 12 16:53:14 +0000 2018</td>\n",
       "      <td>0.34</td>\n",
       "      <td>0.208</td>\n",
       "      <td>0.692</td>\n",
       "      <td>0.1</td>\n",
       "    </tr>\n",
       "    <tr>\n",
       "      <th>4</th>\n",
       "      <td>BBCWorld</td>\n",
       "      <td>BBC News (World)</td>\n",
       "      <td>5</td>\n",
       "      <td>Spanish football league defends phone 'spying'...</td>\n",
       "      <td>Tue Jun 12 16:20:12 +0000 2018</td>\n",
       "      <td>0.00</td>\n",
       "      <td>0.000</td>\n",
       "      <td>1.000</td>\n",
       "      <td>0.0</td>\n",
       "    </tr>\n",
       "  </tbody>\n",
       "</table>\n",
       "</div>"
      ],
      "text/plain": [
       "  Twitter Feed    Source Account  Tweets Ago  \\\n",
       "0     BBCWorld  BBC News (World)           1   \n",
       "1     BBCWorld  BBC News (World)           2   \n",
       "2     BBCWorld  BBC News (World)           3   \n",
       "3     BBCWorld  BBC News (World)           4   \n",
       "4     BBCWorld  BBC News (World)           5   \n",
       "\n",
       "                                               Tweet  \\\n",
       "0  World Cup: Nike boots barred for Iran football...   \n",
       "1  Jean-Pierre Bemba: ICC orders release of Congo...   \n",
       "2  Macedonia and Greece: Deal after 27-year row o...   \n",
       "3  Navarro sorry for 'special place in hell'' for...   \n",
       "4  Spanish football league defends phone 'spying'...   \n",
       "\n",
       "                       Tweet Date  Compound Score  Positive Score  \\\n",
       "0  Tue Jun 12 18:37:34 +0000 2018            0.00           0.000   \n",
       "1  Tue Jun 12 18:05:58 +0000 2018            0.00           0.000   \n",
       "2  Tue Jun 12 16:55:28 +0000 2018            0.00           0.000   \n",
       "3  Tue Jun 12 16:53:14 +0000 2018            0.34           0.208   \n",
       "4  Tue Jun 12 16:20:12 +0000 2018            0.00           0.000   \n",
       "\n",
       "   Neutral Score  Negative Score  \n",
       "0          1.000             0.0  \n",
       "1          1.000             0.0  \n",
       "2          1.000             0.0  \n",
       "3          0.692             0.1  \n",
       "4          1.000             0.0  "
      ]
     },
     "execution_count": 133,
     "metadata": {},
     "output_type": "execute_result"
    }
   ],
   "source": [
    "# set up pandas dataframe\n",
    "df = pd.DataFrame({\n",
    "    \"Twitter Feed\": twitter_feed,\n",
    "    \"Source Account\": source_account,\n",
    "    \"Tweet\": text,\n",
    "    \"Tweet Date\": date,\n",
    "    \"Compound Score\": compound,\n",
    "    \"Positive Score\": positive,\n",
    "    \"Neutral Score\": neutral,\n",
    "    \"Negative Score\": negative,\n",
    "    \"Tweets Ago\": counterlist\n",
    "})\n",
    "\n",
    "# light data cleanup for a presentable dataframe\n",
    "df = df[[ \"Twitter Feed\",\"Source Account\", \"Tweets Ago\", \"Tweet\",\"Tweet Date\",\"Compound Score\",\"Positive Score\",\"Neutral Score\",\"Negative Score\" ]]\n",
    "\n",
    "df.head()"
   ]
  },
  {
   "cell_type": "code",
   "execution_count": 134,
   "metadata": {},
   "outputs": [],
   "source": [
    "# save pandas dataframe to a csv file\n",
    "df.to_csv(\"Twitter Data\", encoding='utf-8', index=False, header=True)"
   ]
  },
  {
   "cell_type": "code",
   "execution_count": 135,
   "metadata": {},
   "outputs": [],
   "source": [
    "# slice up the dataframe for easier plotting\n",
    "df1 = df.iloc[0:100, [2,5]]\n",
    "df2 = df.iloc[100:200, [2, 5]]\n",
    "df3 = df.iloc[200:300,[2, 5]]\n",
    "df4 = df.iloc[300:400, [2, 5]]\n",
    "df5 = df.iloc[400:500,[2, 5]]\n"
   ]
  },
  {
   "cell_type": "code",
   "execution_count": 136,
   "metadata": {},
   "outputs": [
    {
     "data": {
      "image/png": "[encoded data removed]",
      "text/plain": [
       "<matplotlib.figure.Figure at 0x23d5c181a90>"
      ]
     },
     "metadata": {},
     "output_type": "display_data"
    }
   ],
   "source": [
    "#set the time variables\n",
    "now = datetime.now()\n",
    "now = now.strftime(\"%Y-%m-%d %H:%M\")\n",
    "\n",
    "# plot the tweet sentiment analysis\n",
    "plt.scatter(df1[\"Tweets Ago\"], df1[\"Compound Score\"], marker=\"o\", color=\"r\")\n",
    "plt.scatter(df2[\"Tweets Ago\"], df2[\"Compound Score\"], marker=\"o\", color=\"b\")\n",
    "plt.scatter(df3[\"Tweets Ago\"], df3[\"Compound Score\"], marker=\"o\", color=\"g\")\n",
    "plt.scatter(df4[\"Tweets Ago\"], df4[\"Compound Score\"], marker=\"o\", color=\"y\")\n",
    "plt.scatter(df5[\"Tweets Ago\"], df5[\"Compound Score\"], marker=\"o\", color=\"lightblue\")\n",
    "plt.title(f\"Sentiment Polarity of Media Tweets ({now})\")\n",
    "plt.xlim(100, 0)\n",
    "plt.ylim(-1.0, 1.0)\n",
    "plt.xlabel(\"Tweets Ago\")\n",
    "plt.ylabel(\"Tweet Polarity\")\n",
    "\n",
    "# create a legend for the plot\n",
    "plt.legend(labels=targets, bbox_to_anchor=(1.05, 1), loc=2, borderaxespad=0.)\n",
    "\n",
    "# save plot to png\n",
    "plt.savefig(\"twitter_sentiment.png\")\n",
    "\n",
    "plt.show()"
   ]
  },
  {
   "cell_type": "code",
   "execution_count": 137,
   "metadata": {},
   "outputs": [
    {
     "data": {
      "image/png": "[encoded data removed]",
      "text/plain": [
       "<matplotlib.figure.Figure at 0x23d5c181390>"
      ]
     },
     "metadata": {},
     "output_type": "display_data"
    }
   ],
   "source": [
    "# create a bar plot for data\n",
    "\n",
    "# create the necessary object to plug into the bar graph\n",
    "average_tweet_polarity = [df1[\"Compound Score\"].mean(), df2[\"Compound Score\"].mean(), df3[\"Compound Score\"].mean(), \\\n",
    "                          df4[\"Compound Score\"].mean(), df5[\"Compound Score\"].mean()] \n",
    "colors = ['r', 'b', 'g', 'y', 'lightblue']\n",
    "\n",
    "\n",
    "# create bar chart\n",
    "ax = plt.bar(targets,average_tweet_polarity, color=colors, edgecolor='black', width=1, align='center') \n",
    "plt.ylim((min(average_tweet_polarity) - 0.2), (max(average_tweet_polarity) + 0.2))\n",
    "plt.title(f\"Overall Media Sentiment based on Twitter ({now})\")\n",
    "plt.xticks(rotation=90)\n",
    "plt.ylabel(\"Tweet Polarity\")\n",
    "plt.autoscale(tight=True)\n",
    "plt.margins(0, 0.05)\n",
    "\n",
    "\n",
    "for a,b in zip(targets, average_tweet_polarity):\n",
    "    plt.text(a, b, \"{0:.2f}\".format(b))\n",
    "\n",
    "\n",
    "\n",
    "# save chart to png\n",
    "plt.savefig(\"overall_media_sentiment.png\")\n",
    "\n",
    "plt.show()"
   ]
  },
  {
   "cell_type": "code",
   "execution_count": null,
   "metadata": {},
   "outputs": [],
   "source": []
  }
 ],
 "metadata": {
  "kernelspec": {
   "display_name": "Python 3",
   "language": "python",
   "name": "python3"
  },
  "language_info": {
   "codemirror_mode": {
    "name": "ipython",
    "version": 3
   },
   "file_extension": ".py",
   "mimetype": "text/x-python",
   "name": "python",
   "nbconvert_exporter": "python",
   "pygments_lexer": "ipython3",
   "version": "3.6.4"
  }
 },
 "nbformat": 4,
 "nbformat_minor": 2
}
