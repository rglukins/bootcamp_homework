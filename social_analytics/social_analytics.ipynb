{
 "cells": [
  {
   "cell_type": "code",
   "execution_count": 102,
   "metadata": {},
   "outputs": [],
   "source": [
    "# import dependencies\n",
    "import tweepy\n",
    "import matplotlib.pyplot as plt\n",
    "import pandas as pd\n",
    "import json\n",
    "import numpy as np\n",
    "from datetime import datetime\n",
    "from config import consumer_key, consumer_secret, access_token, access_token_secret\n",
    "from vaderSentiment.vaderSentiment import SentimentIntensityAnalyzer"
   ]
  },
  {
   "cell_type": "code",
   "execution_count": 103,
   "metadata": {},
   "outputs": [],
   "source": [
    "# set up twitter authentications\n",
    "consumer_key = consumer_key\n",
    "consumer_secret = consumer_secret\n",
    "access_token = access_token\n",
    "access_token_secret = access_token_secret\n",
    "\n",
    "# Tweepy API Authentication\n",
    "auth = tweepy.OAuthHandler(consumer_key, consumer_secret)\n",
    "auth.set_access_token(access_token, access_token_secret)\n",
    "api = tweepy.API(auth, parser=tweepy.parsers.JSONParser())"
   ]
  },
  {
   "cell_type": "code",
   "execution_count": 104,
   "metadata": {},
   "outputs": [],
   "source": [
    "# initialize sentiment analyzer\n",
    "analyzer = SentimentIntensityAnalyzer()"
   ]
  },
  {
   "cell_type": "code",
   "execution_count": 105,
   "metadata": {},
   "outputs": [],
   "source": [
    "# identify target twitter accounts\n",
    "targets = ['SamHarrisOrg', 'realDonaldTrump', 'TheRickWilson', 'jordanbpeterson', 'RealCandaceO']"
   ]
  },
  {
   "cell_type": "code",
   "execution_count": 106,
   "metadata": {},
   "outputs": [],
   "source": [
    "# set up lists to hold the data from api calls and sentiment analysis\n",
    "twitter_feed = []\n",
    "source_account = []\n",
    "text = []\n",
    "date = []\n",
    "counterlist = []\n",
    "compound = []\n",
    "positive = []\n",
    "neutral = []\n",
    "negative = []"
   ]
  },
  {
   "cell_type": "code",
   "execution_count": 107,
   "metadata": {},
   "outputs": [],
   "source": [
    "#test = api.user_timeline(target, count=1, result_type=\"recent\")\n",
    "#name = test[0][\"user\"][\"name\"]\n",
    "#print(json.dumps(test, sort_keys=True, indent=4))\n",
    "#print(name)"
   ]
  },
  {
   "cell_type": "code",
   "execution_count": 108,
   "metadata": {},
   "outputs": [],
   "source": [
    "# create loop to make api call and analyze the sentiment\n",
    "for target in targets:\n",
    "    \n",
    "    #get the tweets from api call\n",
    "    tweets = api.user_timeline(target, count=100, result_type=\"recent\")\n",
    "    # set a counter for establishing 'tweets ago'\n",
    "    counter = 1\n",
    "    \n",
    "    # start the loop to collect and sort the data\n",
    "    for tweet in tweets:\n",
    "        twitter_feed.append(target)\n",
    "        source_account.append(tweet[\"user\"][\"name\"])\n",
    "        text.append(tweet[\"text\"])\n",
    "        date.append(tweet[\"created_at\"])\n",
    "        counterlist.append(counter)\n",
    "        \n",
    "        #add to the counter\n",
    "        counter += 1"
   ]
  },
  {
   "cell_type": "code",
   "execution_count": 109,
   "metadata": {},
   "outputs": [],
   "source": [
    "# loop through the text of the tweets to analyze the sentiments\n",
    "for data in text:\n",
    "    \n",
    "    # run the sentiment analysis on each tweet\n",
    "    sentiment = analyzer.polarity_scores(data)\n",
    "    \n",
    "    # Add each value to the appropriate array\n",
    "    positive.append(sentiment[\"pos\"])\n",
    "    negative.append(sentiment[\"neg\"])\n",
    "    neutral.append(sentiment[\"neu\"])\n",
    "    compound.append(sentiment[\"compound\"])"
   ]
  },
  {
   "cell_type": "code",
   "execution_count": 112,
   "metadata": {},
   "outputs": [
    {
     "data": {
      "text/html": [
       "<div>\n",
       "<style scoped>\n",
       "    .dataframe tbody tr th:only-of-type {\n",
       "        vertical-align: middle;\n",
       "    }\n",
       "\n",
       "    .dataframe tbody tr th {\n",
       "        vertical-align: top;\n",
       "    }\n",
       "\n",
       "    .dataframe thead th {\n",
       "        text-align: right;\n",
       "    }\n",
       "</style>\n",
       "<table border=\"1\" class=\"dataframe\">\n",
       "  <thead>\n",
       "    <tr style=\"text-align: right;\">\n",
       "      <th></th>\n",
       "      <th>Twitter Feed</th>\n",
       "      <th>Source Account</th>\n",
       "      <th>Tweets Ago</th>\n",
       "      <th>Tweet</th>\n",
       "      <th>Tweet Date</th>\n",
       "      <th>Compound Score</th>\n",
       "      <th>Positive Score</th>\n",
       "      <th>Neutral Score</th>\n",
       "      <th>Negative Score</th>\n",
       "    </tr>\n",
       "  </thead>\n",
       "  <tbody>\n",
       "    <tr>\n",
       "      <th>0</th>\n",
       "      <td>SamHarrisOrg</td>\n",
       "      <td>Sam Harris</td>\n",
       "      <td>1</td>\n",
       "      <td>RT @at_RIN: Have you ever seen a sea like this...</td>\n",
       "      <td>Mon Jun 11 14:58:08 +0000 2018</td>\n",
       "      <td>0.6249</td>\n",
       "      <td>0.221</td>\n",
       "      <td>0.779</td>\n",
       "      <td>0.000</td>\n",
       "    </tr>\n",
       "    <tr>\n",
       "      <th>1</th>\n",
       "      <td>SamHarrisOrg</td>\n",
       "      <td>Sam Harris</td>\n",
       "      <td>2</td>\n",
       "      <td>This is great, from @mashagessen: \"How George ...</td>\n",
       "      <td>Mon Jun 11 03:56:43 +0000 2018</td>\n",
       "      <td>0.6597</td>\n",
       "      <td>0.293</td>\n",
       "      <td>0.707</td>\n",
       "      <td>0.000</td>\n",
       "    </tr>\n",
       "    <tr>\n",
       "      <th>2</th>\n",
       "      <td>SamHarrisOrg</td>\n",
       "      <td>Sam Harris</td>\n",
       "      <td>3</td>\n",
       "      <td>RT @GenMhayden: This is madness https://t.co/i...</td>\n",
       "      <td>Mon Jun 11 00:06:50 +0000 2018</td>\n",
       "      <td>-0.4404</td>\n",
       "      <td>0.000</td>\n",
       "      <td>0.633</td>\n",
       "      <td>0.367</td>\n",
       "    </tr>\n",
       "    <tr>\n",
       "      <th>3</th>\n",
       "      <td>SamHarrisOrg</td>\n",
       "      <td>Sam Harris</td>\n",
       "      <td>4</td>\n",
       "      <td>RT @MaajidNawaz: I spoke out against the anti-...</td>\n",
       "      <td>Sun Jun 10 23:58:57 +0000 2018</td>\n",
       "      <td>-0.3182</td>\n",
       "      <td>0.141</td>\n",
       "      <td>0.664</td>\n",
       "      <td>0.195</td>\n",
       "    </tr>\n",
       "    <tr>\n",
       "      <th>4</th>\n",
       "      <td>SamHarrisOrg</td>\n",
       "      <td>Sam Harris</td>\n",
       "      <td>5</td>\n",
       "      <td>Mark Zuckerberg, Elon Musk and the Feud Over K...</td>\n",
       "      <td>Sun Jun 10 20:21:22 +0000 2018</td>\n",
       "      <td>-0.7717</td>\n",
       "      <td>0.000</td>\n",
       "      <td>0.573</td>\n",
       "      <td>0.427</td>\n",
       "    </tr>\n",
       "  </tbody>\n",
       "</table>\n",
       "</div>"
      ],
      "text/plain": [
       "   Twitter Feed Source Account  Tweets Ago  \\\n",
       "0  SamHarrisOrg     Sam Harris           1   \n",
       "1  SamHarrisOrg     Sam Harris           2   \n",
       "2  SamHarrisOrg     Sam Harris           3   \n",
       "3  SamHarrisOrg     Sam Harris           4   \n",
       "4  SamHarrisOrg     Sam Harris           5   \n",
       "\n",
       "                                               Tweet  \\\n",
       "0  RT @at_RIN: Have you ever seen a sea like this...   \n",
       "1  This is great, from @mashagessen: \"How George ...   \n",
       "2  RT @GenMhayden: This is madness https://t.co/i...   \n",
       "3  RT @MaajidNawaz: I spoke out against the anti-...   \n",
       "4  Mark Zuckerberg, Elon Musk and the Feud Over K...   \n",
       "\n",
       "                       Tweet Date  Compound Score  Positive Score  \\\n",
       "0  Mon Jun 11 14:58:08 +0000 2018          0.6249           0.221   \n",
       "1  Mon Jun 11 03:56:43 +0000 2018          0.6597           0.293   \n",
       "2  Mon Jun 11 00:06:50 +0000 2018         -0.4404           0.000   \n",
       "3  Sun Jun 10 23:58:57 +0000 2018         -0.3182           0.141   \n",
       "4  Sun Jun 10 20:21:22 +0000 2018         -0.7717           0.000   \n",
       "\n",
       "   Neutral Score  Negative Score  \n",
       "0          0.779           0.000  \n",
       "1          0.707           0.000  \n",
       "2          0.633           0.367  \n",
       "3          0.664           0.195  \n",
       "4          0.573           0.427  "
      ]
     },
     "execution_count": 112,
     "metadata": {},
     "output_type": "execute_result"
    }
   ],
   "source": [
    "# set up pandas dataframe\n",
    "df = pd.DataFrame({\n",
    "    \"Twitter Feed\": twitter_feed,\n",
    "    \"Source Account\": source_account,\n",
    "    \"Tweet\": text,\n",
    "    \"Tweet Date\": date,\n",
    "    \"Compound Score\": compound,\n",
    "    \"Positive Score\": positive,\n",
    "    \"Neutral Score\": neutral,\n",
    "    \"Negative Score\": negative,\n",
    "    \"Tweets Ago\": counterlist\n",
    "})\n",
    "\n",
    "# light data cleanup for a presentable dataframe\n",
    "df = df[[ \"Twitter Feed\",\"Source Account\", \"Tweets Ago\", \"Tweet\",\"Tweet Date\",\"Compound Score\",\"Positive Score\",\"Neutral Score\",\"Negative Score\" ]]\n",
    "\n",
    "df.head()"
   ]
  },
  {
   "cell_type": "code",
   "execution_count": 84,
   "metadata": {},
   "outputs": [],
   "source": [
    "# save pandas dataframe to a csv file"
   ]
  },
  {
   "cell_type": "code",
   "execution_count": 113,
   "metadata": {},
   "outputs": [
    {
     "data": {
      "text/html": [
       "<div>\n",
       "<style scoped>\n",
       "    .dataframe tbody tr th:only-of-type {\n",
       "        vertical-align: middle;\n",
       "    }\n",
       "\n",
       "    .dataframe tbody tr th {\n",
       "        vertical-align: top;\n",
       "    }\n",
       "\n",
       "    .dataframe thead th {\n",
       "        text-align: right;\n",
       "    }\n",
       "</style>\n",
       "<table border=\"1\" class=\"dataframe\">\n",
       "  <thead>\n",
       "    <tr style=\"text-align: right;\">\n",
       "      <th></th>\n",
       "      <th>Tweets Ago</th>\n",
       "      <th>Compound Score</th>\n",
       "    </tr>\n",
       "  </thead>\n",
       "  <tbody>\n",
       "    <tr>\n",
       "      <th>300</th>\n",
       "      <td>1</td>\n",
       "      <td>0.4939</td>\n",
       "    </tr>\n",
       "    <tr>\n",
       "      <th>301</th>\n",
       "      <td>2</td>\n",
       "      <td>0.0000</td>\n",
       "    </tr>\n",
       "    <tr>\n",
       "      <th>302</th>\n",
       "      <td>3</td>\n",
       "      <td>0.0000</td>\n",
       "    </tr>\n",
       "    <tr>\n",
       "      <th>303</th>\n",
       "      <td>4</td>\n",
       "      <td>0.4588</td>\n",
       "    </tr>\n",
       "    <tr>\n",
       "      <th>304</th>\n",
       "      <td>5</td>\n",
       "      <td>-0.2732</td>\n",
       "    </tr>\n",
       "  </tbody>\n",
       "</table>\n",
       "</div>"
      ],
      "text/plain": [
       "     Tweets Ago  Compound Score\n",
       "300           1          0.4939\n",
       "301           2          0.0000\n",
       "302           3          0.0000\n",
       "303           4          0.4588\n",
       "304           5         -0.2732"
      ]
     },
     "execution_count": 113,
     "metadata": {},
     "output_type": "execute_result"
    }
   ],
   "source": [
    "# slice up the dataframe for easier plotting\n",
    "df1 = df.iloc[0:100, [2,5]]\n",
    "df2 = df.iloc[100:200, [2, 5]]\n",
    "df3 = df.iloc[200:300,[2, 5]]\n",
    "df4 = df.iloc[300:400, [2, 5]]\n",
    "df5 = df.iloc[400:500,[2, 5]]\n",
    "df4.head()"
   ]
  },
  {
   "cell_type": "code",
   "execution_count": 117,
   "metadata": {},
   "outputs": [
    {
     "data": {
      "image/png": "[encoded data removed]",
      "text/plain": [
       "<matplotlib.figure.Figure at 0x29ddbee7c18>"
      ]
     },
     "metadata": {},
     "output_type": "display_data"
    }
   ],
   "source": [
    "#set the time variables\n",
    "now = datetime.now()\n",
    "now = now.strftime(\"%Y-%m-%d %H:%M\")\n",
    "\n",
    "# plot the tweet sentiment analysis\n",
    "plt.scatter(df1[\"Tweets Ago\"], df1[\"Compound Score\"], marker=\"o\", color=\"r\")\n",
    "plt.scatter(df2[\"Tweets Ago\"], df2[\"Compound Score\"], marker=\"o\", color=\"b\")\n",
    "plt.scatter(df3[\"Tweets Ago\"], df3[\"Compound Score\"], marker=\"o\", color=\"g\")\n",
    "plt.scatter(df4[\"Tweets Ago\"], df4[\"Compound Score\"], marker=\"o\", color=\"y\")\n",
    "plt.scatter(df5[\"Tweets Ago\"], df5[\"Compound Score\"], marker=\"o\", color=\"lightblue\")\n",
    "plt.title(f\"Sentiment Polarity of Media Tweets ({now})\")\n",
    "plt.xlim(100, 0)\n",
    "plt.ylim(-1.0, 1.0)\n",
    "plt.xlabel(\"Tweets Ago\")\n",
    "plt.ylabel(\"Tweet Polarity\")\n",
    "plt.show()"
   ]
  },
  {
   "cell_type": "code",
   "execution_count": null,
   "metadata": {},
   "outputs": [],
   "source": []
  }
 ],
 "metadata": {
  "kernelspec": {
   "display_name": "Python 3",
   "language": "python",
   "name": "python3"
  },
  "language_info": {
   "codemirror_mode": {
    "name": "ipython",
    "version": 3
   },
   "file_extension": ".py",
   "mimetype": "text/x-python",
   "name": "python",
   "nbconvert_exporter": "python",
   "pygments_lexer": "ipython3",
   "version": "3.6.4"
  }
 },
 "nbformat": 4,
 "nbformat_minor": 2
}
