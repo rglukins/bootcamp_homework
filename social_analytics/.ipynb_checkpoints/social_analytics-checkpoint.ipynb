{
 "cells": [
  {
   "cell_type": "markdown",
   "metadata": {},
   "source": [
    "# Analysis\n",
    "\n",
    "* News organizations tend towards neutrality in their public tweets. It is rare for them to exhibit hight positive or negative sentiment scores, and their compound scores generally fall in the neutral range.\n",
    "* On the day of analysis, Fox News displayed the most consistently neutral position, as its average compound score was very close to zero, which is somewhat surprising given its reputation for political bias.\n",
    "* On the day of analysis, the CBS displayed the greatest negativity of the five outlets examined. Though it's average compound score was still fairly neutral, this is somewhat surprising given its reputation for objectivity."
   ]
  },
  {
   "cell_type": "code",
   "execution_count": 1,
   "metadata": {},
   "outputs": [
    {
     "name": "stderr",
     "output_type": "stream",
     "text": [
      "C:\\Users\\RoryLukins\\Anaconda3\\lib\\site-packages\\requests\\__init__.py:80: RequestsDependencyWarning: urllib3 (1.22) or chardet (2.3.0) doesn't match a supported version!\n",
      "  RequestsDependencyWarning)\n"
     ]
    }
   ],
   "source": [
    "# import dependencies\n",
    "import tweepy\n",
    "import matplotlib.pyplot as plt\n",
    "import pandas as pd\n",
    "import json\n",
    "import numpy as np\n",
    "from datetime import datetime\n",
    "from config import consumer_key, consumer_secret, access_token, access_token_secret\n",
    "from vaderSentiment.vaderSentiment import SentimentIntensityAnalyzer"
   ]
  },
  {
   "cell_type": "code",
   "execution_count": 2,
   "metadata": {},
   "outputs": [],
   "source": [
    "# set up twitter authentications\n",
    "consumer_key = consumer_key\n",
    "consumer_secret = consumer_secret\n",
    "access_token = access_token\n",
    "access_token_secret = access_token_secret\n",
    "\n",
    "# Tweepy API Authentication\n",
    "auth = tweepy.OAuthHandler(consumer_key, consumer_secret)\n",
    "auth.set_access_token(access_token, access_token_secret)\n",
    "api = tweepy.API(auth, parser=tweepy.parsers.JSONParser())"
   ]
  },
  {
   "cell_type": "code",
   "execution_count": 3,
   "metadata": {},
   "outputs": [],
   "source": [
    "# initialize sentiment analyzer\n",
    "analyzer = SentimentIntensityAnalyzer()"
   ]
  },
  {
   "cell_type": "code",
   "execution_count": 4,
   "metadata": {},
   "outputs": [],
   "source": [
    "# identify target twitter accounts\n",
    "targets = ['BBCWorld', 'CBSNews', 'CNN', 'FoxNews', 'nytimes']"
   ]
  },
  {
   "cell_type": "code",
   "execution_count": 5,
   "metadata": {},
   "outputs": [],
   "source": [
    "# set up lists to hold the data from api calls and sentiment analysis\n",
    "twitter_feed = []\n",
    "source_account = []\n",
    "text = []\n",
    "date = []\n",
    "counterlist = []\n",
    "compound = []\n",
    "positive = []\n",
    "neutral = []\n",
    "negative = []"
   ]
  },
  {
   "cell_type": "code",
   "execution_count": 6,
   "metadata": {},
   "outputs": [],
   "source": [
    "# create loop to make api call and analyze the sentiment\n",
    "for target in targets:\n",
    "    \n",
    "    #get the tweets from api call\n",
    "    tweets = api.user_timeline(target, count=100, result_type=\"recent\")\n",
    "    # set a counter for establishing 'tweets ago'\n",
    "    counter = 1\n",
    "    \n",
    "    # start the loop to collect and sort the data\n",
    "    for tweet in tweets:\n",
    "        twitter_feed.append(target)\n",
    "        source_account.append(tweet[\"user\"][\"name\"])\n",
    "        text.append(tweet[\"text\"])\n",
    "        date.append(tweet[\"created_at\"])\n",
    "        counterlist.append(counter)\n",
    "        \n",
    "        #add to the counter\n",
    "        counter += 1"
   ]
  },
  {
   "cell_type": "code",
   "execution_count": 7,
   "metadata": {},
   "outputs": [],
   "source": [
    "# loop through the text of the tweets to analyze the sentiments\n",
    "for data in text:\n",
    "    \n",
    "    # run the sentiment analysis on each tweet\n",
    "    sentiment = analyzer.polarity_scores(data)\n",
    "    \n",
    "    # Add each value to the appropriate array\n",
    "    positive.append(sentiment[\"pos\"])\n",
    "    negative.append(sentiment[\"neg\"])\n",
    "    neutral.append(sentiment[\"neu\"])\n",
    "    compound.append(sentiment[\"compound\"])"
   ]
  },
  {
   "cell_type": "code",
   "execution_count": 8,
   "metadata": {},
   "outputs": [
    {
     "data": {
      "text/html": [
       "<div>\n",
       "<style scoped>\n",
       "    .dataframe tbody tr th:only-of-type {\n",
       "        vertical-align: middle;\n",
       "    }\n",
       "\n",
       "    .dataframe tbody tr th {\n",
       "        vertical-align: top;\n",
       "    }\n",
       "\n",
       "    .dataframe thead th {\n",
       "        text-align: right;\n",
       "    }\n",
       "</style>\n",
       "<table border=\"1\" class=\"dataframe\">\n",
       "  <thead>\n",
       "    <tr style=\"text-align: right;\">\n",
       "      <th></th>\n",
       "      <th>Twitter Feed</th>\n",
       "      <th>Source Account</th>\n",
       "      <th>Tweets Ago</th>\n",
       "      <th>Tweet</th>\n",
       "      <th>Tweet Date</th>\n",
       "      <th>Compound Score</th>\n",
       "      <th>Positive Score</th>\n",
       "      <th>Neutral Score</th>\n",
       "      <th>Negative Score</th>\n",
       "    </tr>\n",
       "  </thead>\n",
       "  <tbody>\n",
       "    <tr>\n",
       "      <th>0</th>\n",
       "      <td>BBCWorld</td>\n",
       "      <td>BBC News (World)</td>\n",
       "      <td>1</td>\n",
       "      <td>California voters to weigh splitting into thre...</td>\n",
       "      <td>Wed Jun 13 15:30:36 +0000 2018</td>\n",
       "      <td>0.0000</td>\n",
       "      <td>0.000</td>\n",
       "      <td>1.000</td>\n",
       "      <td>0.000</td>\n",
       "    </tr>\n",
       "    <tr>\n",
       "      <th>1</th>\n",
       "      <td>BBCWorld</td>\n",
       "      <td>BBC News (World)</td>\n",
       "      <td>2</td>\n",
       "      <td>Trump Kim summit: US president lauds deal desp...</td>\n",
       "      <td>Wed Jun 13 14:55:27 +0000 2018</td>\n",
       "      <td>0.1511</td>\n",
       "      <td>0.150</td>\n",
       "      <td>0.850</td>\n",
       "      <td>0.000</td>\n",
       "    </tr>\n",
       "    <tr>\n",
       "      <th>2</th>\n",
       "      <td>BBCWorld</td>\n",
       "      <td>BBC News (World)</td>\n",
       "      <td>3</td>\n",
       "      <td>Why battle for crucial Yemen port matters http...</td>\n",
       "      <td>Wed Jun 13 14:42:51 +0000 2018</td>\n",
       "      <td>-0.3612</td>\n",
       "      <td>0.113</td>\n",
       "      <td>0.619</td>\n",
       "      <td>0.268</td>\n",
       "    </tr>\n",
       "    <tr>\n",
       "      <th>3</th>\n",
       "      <td>BBCWorld</td>\n",
       "      <td>BBC News (World)</td>\n",
       "      <td>4</td>\n",
       "      <td>Argentina lawmakers gather for key abortion vo...</td>\n",
       "      <td>Wed Jun 13 14:19:23 +0000 2018</td>\n",
       "      <td>0.0000</td>\n",
       "      <td>0.000</td>\n",
       "      <td>1.000</td>\n",
       "      <td>0.000</td>\n",
       "    </tr>\n",
       "    <tr>\n",
       "      <th>4</th>\n",
       "      <td>BBCWorld</td>\n",
       "      <td>BBC News (World)</td>\n",
       "      <td>5</td>\n",
       "      <td>Excusez-moi?!\\n\\nReporters were told they had ...</td>\n",
       "      <td>Wed Jun 13 13:37:54 +0000 2018</td>\n",
       "      <td>0.0000</td>\n",
       "      <td>0.000</td>\n",
       "      <td>1.000</td>\n",
       "      <td>0.000</td>\n",
       "    </tr>\n",
       "  </tbody>\n",
       "</table>\n",
       "</div>"
      ],
      "text/plain": [
       "  Twitter Feed    Source Account  Tweets Ago  \\\n",
       "0     BBCWorld  BBC News (World)           1   \n",
       "1     BBCWorld  BBC News (World)           2   \n",
       "2     BBCWorld  BBC News (World)           3   \n",
       "3     BBCWorld  BBC News (World)           4   \n",
       "4     BBCWorld  BBC News (World)           5   \n",
       "\n",
       "                                               Tweet  \\\n",
       "0  California voters to weigh splitting into thre...   \n",
       "1  Trump Kim summit: US president lauds deal desp...   \n",
       "2  Why battle for crucial Yemen port matters http...   \n",
       "3  Argentina lawmakers gather for key abortion vo...   \n",
       "4  Excusez-moi?!\\n\\nReporters were told they had ...   \n",
       "\n",
       "                       Tweet Date  Compound Score  Positive Score  \\\n",
       "0  Wed Jun 13 15:30:36 +0000 2018          0.0000           0.000   \n",
       "1  Wed Jun 13 14:55:27 +0000 2018          0.1511           0.150   \n",
       "2  Wed Jun 13 14:42:51 +0000 2018         -0.3612           0.113   \n",
       "3  Wed Jun 13 14:19:23 +0000 2018          0.0000           0.000   \n",
       "4  Wed Jun 13 13:37:54 +0000 2018          0.0000           0.000   \n",
       "\n",
       "   Neutral Score  Negative Score  \n",
       "0          1.000           0.000  \n",
       "1          0.850           0.000  \n",
       "2          0.619           0.268  \n",
       "3          1.000           0.000  \n",
       "4          1.000           0.000  "
      ]
     },
     "execution_count": 8,
     "metadata": {},
     "output_type": "execute_result"
    }
   ],
   "source": [
    "# set up pandas dataframe\n",
    "df = pd.DataFrame({\n",
    "    \"Twitter Feed\": twitter_feed,\n",
    "    \"Source Account\": source_account,\n",
    "    \"Tweet\": text,\n",
    "    \"Tweet Date\": date,\n",
    "    \"Compound Score\": compound,\n",
    "    \"Positive Score\": positive,\n",
    "    \"Neutral Score\": neutral,\n",
    "    \"Negative Score\": negative,\n",
    "    \"Tweets Ago\": counterlist\n",
    "})\n",
    "\n",
    "# light data cleanup for a presentable dataframe\n",
    "df = df[[ \"Twitter Feed\",\"Source Account\", \"Tweets Ago\", \"Tweet\",\"Tweet Date\",\"Compound Score\",\"Positive Score\",\"Neutral Score\",\"Negative Score\" ]]\n",
    "\n",
    "df.head()"
   ]
  },
  {
   "cell_type": "code",
   "execution_count": 9,
   "metadata": {},
   "outputs": [],
   "source": [
    "# save pandas dataframe to a csv file\n",
    "df.to_csv(\"Twitter Data\", encoding='utf-8', index=False, header=True)"
   ]
  },
  {
   "cell_type": "code",
   "execution_count": 10,
   "metadata": {},
   "outputs": [],
   "source": [
    "# slice up the dataframe for easier plotting\n",
    "df1 = df.iloc[0:100, [2,5]]\n",
    "df2 = df.iloc[100:200, [2, 5]]\n",
    "df3 = df.iloc[200:300,[2, 5]]\n",
    "df4 = df.iloc[300:400, [2, 5]]\n",
    "df5 = df.iloc[400:500,[2, 5]]\n"
   ]
  },
  {
   "cell_type": "code",
   "execution_count": 16,
   "metadata": {},
   "outputs": [
    {
     "data": {
      "image/png": "[encoded data removed]",
      "text/plain": [
       "<matplotlib.figure.Figure at 0x220d4b63588>"
      ]
     },
     "metadata": {},
     "output_type": "display_data"
    }
   ],
   "source": [
    "#set the time variables\n",
    "now = datetime.now()\n",
    "now = now.strftime(\"%A, %B %d, %Y\")\n",
    "\n",
    "# plot the tweet sentiment analysis\n",
    "plt.scatter(df1[\"Tweets Ago\"], df1[\"Compound Score\"], marker=\"o\", color=\"r\")\n",
    "plt.scatter(df2[\"Tweets Ago\"], df2[\"Compound Score\"], marker=\"o\", color=\"b\")\n",
    "plt.scatter(df3[\"Tweets Ago\"], df3[\"Compound Score\"], marker=\"o\", color=\"g\")\n",
    "plt.scatter(df4[\"Tweets Ago\"], df4[\"Compound Score\"], marker=\"o\", color=\"y\")\n",
    "plt.scatter(df5[\"Tweets Ago\"], df5[\"Compound Score\"], marker=\"o\", color=\"lightblue\")\n",
    "plt.title(f\"Sentiment Polarity of Media Tweets ({now})\")\n",
    "plt.xlim(100, 0)\n",
    "plt.ylim(-1.0, 1.0)\n",
    "plt.xlabel(\"Tweets Ago\")\n",
    "plt.ylabel(\"Tweet Polarity\")\n",
    "\n",
    "# create a legend for the plot\n",
    "plt.legend(labels=targets, bbox_to_anchor=(1.05, 1), loc=2, borderaxespad=0.)\n",
    "\n",
    "# save plot to png\n",
    "plt.savefig(\"twitter_sentiment.png\")\n",
    "\n",
    "plt.show()"
   ]
  },
  {
   "cell_type": "code",
   "execution_count": 17,
   "metadata": {},
   "outputs": [
    {
     "data": {
      "image/png": "[encoded data removed]",
      "text/plain": [
       "<matplotlib.figure.Figure at 0x220d4c04f98>"
      ]
     },
     "metadata": {},
     "output_type": "display_data"
    }
   ],
   "source": [
    "# create a bar plot for data\n",
    "\n",
    "# create the necessary object to plug into the bar graph\n",
    "average_tweet_polarity = [df1[\"Compound Score\"].mean(), df2[\"Compound Score\"].mean(), df3[\"Compound Score\"].mean(), \\\n",
    "                          df4[\"Compound Score\"].mean(), df5[\"Compound Score\"].mean()] \n",
    "colors = ['r', 'b', 'g', 'y', 'lightblue']\n",
    "\n",
    "\n",
    "# create bar chart\n",
    "ax = plt.bar(targets,average_tweet_polarity, color=colors, edgecolor='black', width=1, align='center') \n",
    "plt.ylim((min(average_tweet_polarity) - 0.2), (max(average_tweet_polarity) + 0.2))\n",
    "plt.title(f\"Overall Media Sentiment based on Twitter ({now})\")\n",
    "plt.xticks(rotation=90)\n",
    "plt.ylabel(\"Tweet Polarity\")\n",
    "plt.autoscale(tight=True)\n",
    "plt.margins(0, 0.05)\n",
    "\n",
    "\n",
    "for a,b in zip(targets, average_tweet_polarity):\n",
    "    plt.text(a, b, \"{0:.2f}\".format(b))\n",
    "\n",
    "\n",
    "\n",
    "# save chart to png\n",
    "plt.savefig(\"overall_media_sentiment.png\")\n",
    "\n",
    "plt.show()"
   ]
  },
  {
   "cell_type": "code",
   "execution_count": null,
   "metadata": {},
   "outputs": [],
   "source": []
  }
 ],
 "metadata": {
  "kernelspec": {
   "display_name": "Python 3",
   "language": "python",
   "name": "python3"
  },
  "language_info": {
   "codemirror_mode": {
    "name": "ipython",
    "version": 3
   },
   "file_extension": ".py",
   "mimetype": "text/x-python",
   "name": "python",
   "nbconvert_exporter": "python",
   "pygments_lexer": "ipython3",
   "version": "3.6.4"
  }
 },
 "nbformat": 4,
 "nbformat_minor": 2
}
